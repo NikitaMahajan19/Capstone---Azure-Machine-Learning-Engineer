{
 "cells": [
  {
   "cell_type": "markdown",
   "metadata": {},
   "source": [
    "# Automated ML\n",
    "\n",
    "Importing all needed dependencies to complete the project."
   ]
  },
  {
   "cell_type": "code",
   "execution_count": 4,
   "metadata": {
    "gather": {
     "logged": 1618639947391
    },
    "jupyter": {
     "outputs_hidden": false,
     "source_hidden": false
    },
    "nteract": {
     "transient": {
      "deleting": false
     }
    }
   },
   "outputs": [
    {
     "name": "stdout",
     "output_type": "stream",
     "text": [
      "SDK version: 1.26.0\n"
     ]
    }
   ],
   "source": [
    "import logging\n",
    "import os\n",
    "import json\n",
    "import csv\n",
    "import numpy as np\n",
    "import pandas as pd\n",
    "import pkg_resources\n",
    "import joblib\n",
    "\n",
    "import azureml.core\n",
    "from azureml.core.experiment import Experiment\n",
    "from azureml.core.workspace import Workspace\n",
    "from azureml.train.automl import AutoMLConfig\n",
    "from azureml.core.dataset import Dataset\n",
    "from azureml.core.compute import AmlCompute\n",
    "from azureml.core.compute import ComputeTarget\n",
    "from azureml.core.compute_target import ComputeTargetException\n",
    "from azureml.pipeline.steps import AutoMLStep\n",
    "from azureml.widgets import RunDetails\n",
    "from azureml.core import Model, Environment\n",
    "from azureml.core.model import InferenceConfig\n",
    "from azureml.core.webservice import AciWebservice\n",
    "from sklearn.preprocessing import StandardScaler\n",
    "\n",
    "# Check core SDK version number\n",
    "print(\"SDK version:\", azureml.core.VERSION)"
   ]
  },
  {
   "cell_type": "markdown",
   "metadata": {},
   "source": [
    "## Dataset\n",
    "\n",
    "### Overview\n",
    "This dataset comes from the Diabetes and Digestive and Kidney Disease National Institutes. The purpose of this dataset is to diagnose whether or not a patient is diabetic, on the basis of certain diagnostic measures in the dataset. The selection of these instances from a larger database was subject to several restrictions. All patients are women from the Indian heritage of Pima, at least 21 years old. \n",
    "https://www.kaggle.com/uciml/pima-indians-diabetes-database\n",
    "\n",
    "Task\n",
    "Predict the \"Outcome\" column based on the input features, either the patient has diabetes or not.\n",
    "\n",
    "Reference: http://www.arogyaworld.org/wp-content/uploads/2010/10/ArogyaWorld_IndiaDiabetes_FactSheets_CGI2013_web.pdf\n",
    "\n",
    "The dataset has nine features as follow:\n",
    "- Pregnancies: Number pregnancy times (int).\n",
    "- Glucose: Plasma glucose concentration level (int).\n",
    "- BloodPressure: Diastolic blood pressure level in mm Hg(int).\n",
    "- SkinThickness: skinfold thickness in mm(int).\n",
    "- Insulin: two-hour serum insulin measured by mu U/ml(int).\n",
    "- BMI: Body mass index (float).\n",
    "- DiabetesPedigreeFunction: Diabetes pedigree function(float).\n",
    "- Age: age in years 21 and above(int).\n",
    "- Outcome: Target column 0 or 1, 0 = Not diabetes, 1 = diabetes(int)."
   ]
  },
  {
   "cell_type": "code",
   "execution_count": 5,
   "metadata": {
    "gather": {
     "logged": 1618639948212
    },
    "jupyter": {
     "outputs_hidden": false,
     "source_hidden": false
    },
    "nteract": {
     "transient": {
      "deleting": false
     }
    }
   },
   "outputs": [],
   "source": [
    "ws = Workspace.from_config()\n",
    "\n",
    "# choose a name for experiment\n",
    "experiment_name = 'automl'\n",
    "\n",
    "experiment=Experiment(ws, experiment_name)"
   ]
  },
  {
   "cell_type": "code",
   "execution_count": 6,
   "metadata": {
    "gather": {
     "logged": 1618639951713
    }
   },
   "outputs": [
    {
     "name": "stdout",
     "output_type": "stream",
     "text": [
      "<class 'pandas.core.frame.DataFrame'>\n",
      "RangeIndex: 769 entries, 0 to 768\n",
      "Data columns (total 9 columns):\n",
      "Column1    769 non-null object\n",
      "Column2    769 non-null object\n",
      "Column3    769 non-null object\n",
      "Column4    769 non-null object\n",
      "Column5    769 non-null object\n",
      "Column6    769 non-null object\n",
      "Column7    769 non-null object\n",
      "Column8    769 non-null object\n",
      "Column9    769 non-null object\n",
      "dtypes: object(9)\n",
      "memory usage: 54.2+ KB\n"
     ]
    }
   ],
   "source": [
    "# Load the registered dataset from workspace\n",
    "dataset = Dataset.get_by_name(ws, name='Diabetes')\n",
    "\n",
    "# Convert the dataset to dataframe\n",
    "df = dataset.to_pandas_dataframe()\n",
    "df.info()"
   ]
  },
  {
   "cell_type": "code",
   "execution_count": 7,
   "metadata": {
    "gather": {
     "logged": 1618639951951
    }
   },
   "outputs": [
    {
     "data": {
      "text/html": [
       "<div>\n",
       "<style scoped>\n",
       "    .dataframe tbody tr th:only-of-type {\n",
       "        vertical-align: middle;\n",
       "    }\n",
       "\n",
       "    .dataframe tbody tr th {\n",
       "        vertical-align: top;\n",
       "    }\n",
       "\n",
       "    .dataframe thead th {\n",
       "        text-align: right;\n",
       "    }\n",
       "</style>\n",
       "<table border=\"1\" class=\"dataframe\">\n",
       "  <thead>\n",
       "    <tr style=\"text-align: right;\">\n",
       "      <th></th>\n",
       "      <th>Column1</th>\n",
       "      <th>Column2</th>\n",
       "      <th>Column3</th>\n",
       "      <th>Column4</th>\n",
       "      <th>Column5</th>\n",
       "      <th>Column6</th>\n",
       "      <th>Column7</th>\n",
       "      <th>Column8</th>\n",
       "      <th>Column9</th>\n",
       "    </tr>\n",
       "  </thead>\n",
       "  <tbody>\n",
       "    <tr>\n",
       "      <th>count</th>\n",
       "      <td>769</td>\n",
       "      <td>769</td>\n",
       "      <td>769</td>\n",
       "      <td>769</td>\n",
       "      <td>769</td>\n",
       "      <td>769</td>\n",
       "      <td>769</td>\n",
       "      <td>769</td>\n",
       "      <td>769</td>\n",
       "    </tr>\n",
       "    <tr>\n",
       "      <th>unique</th>\n",
       "      <td>18</td>\n",
       "      <td>137</td>\n",
       "      <td>48</td>\n",
       "      <td>52</td>\n",
       "      <td>187</td>\n",
       "      <td>249</td>\n",
       "      <td>518</td>\n",
       "      <td>53</td>\n",
       "      <td>3</td>\n",
       "    </tr>\n",
       "    <tr>\n",
       "      <th>top</th>\n",
       "      <td>1</td>\n",
       "      <td>100</td>\n",
       "      <td>70</td>\n",
       "      <td>0</td>\n",
       "      <td>0</td>\n",
       "      <td>32</td>\n",
       "      <td>0.258</td>\n",
       "      <td>22</td>\n",
       "      <td>0</td>\n",
       "    </tr>\n",
       "    <tr>\n",
       "      <th>freq</th>\n",
       "      <td>135</td>\n",
       "      <td>17</td>\n",
       "      <td>57</td>\n",
       "      <td>227</td>\n",
       "      <td>374</td>\n",
       "      <td>13</td>\n",
       "      <td>6</td>\n",
       "      <td>72</td>\n",
       "      <td>500</td>\n",
       "    </tr>\n",
       "  </tbody>\n",
       "</table>\n",
       "</div>"
      ],
      "text/plain": [
       "       Column1 Column2 Column3 Column4 Column5 Column6 Column7 Column8 Column9\n",
       "count      769     769     769     769     769     769     769     769     769\n",
       "unique      18     137      48      52     187     249     518      53       3\n",
       "top          1     100      70       0       0      32   0.258      22       0\n",
       "freq       135      17      57     227     374      13       6      72     500"
      ]
     },
     "execution_count": 7,
     "metadata": {},
     "output_type": "execute_result"
    }
   ],
   "source": [
    "df.describe()"
   ]
  },
  {
   "cell_type": "code",
   "execution_count": 8,
   "metadata": {
    "gather": {
     "logged": 1618639952127
    }
   },
   "outputs": [
    {
     "data": {
      "text/html": [
       "<div>\n",
       "<style scoped>\n",
       "    .dataframe tbody tr th:only-of-type {\n",
       "        vertical-align: middle;\n",
       "    }\n",
       "\n",
       "    .dataframe tbody tr th {\n",
       "        vertical-align: top;\n",
       "    }\n",
       "\n",
       "    .dataframe thead th {\n",
       "        text-align: right;\n",
       "    }\n",
       "</style>\n",
       "<table border=\"1\" class=\"dataframe\">\n",
       "  <thead>\n",
       "    <tr style=\"text-align: right;\">\n",
       "      <th></th>\n",
       "      <th>Column1</th>\n",
       "      <th>Column2</th>\n",
       "      <th>Column3</th>\n",
       "      <th>Column4</th>\n",
       "      <th>Column5</th>\n",
       "      <th>Column6</th>\n",
       "      <th>Column7</th>\n",
       "      <th>Column8</th>\n",
       "      <th>Column9</th>\n",
       "    </tr>\n",
       "  </thead>\n",
       "  <tbody>\n",
       "    <tr>\n",
       "      <th>0</th>\n",
       "      <td>Pregnancies</td>\n",
       "      <td>Glucose</td>\n",
       "      <td>BloodPressure</td>\n",
       "      <td>SkinThickness</td>\n",
       "      <td>Insulin</td>\n",
       "      <td>BMI</td>\n",
       "      <td>DiabetesPedigreeFunction</td>\n",
       "      <td>Age</td>\n",
       "      <td>Outcome</td>\n",
       "    </tr>\n",
       "    <tr>\n",
       "      <th>1</th>\n",
       "      <td>6</td>\n",
       "      <td>148</td>\n",
       "      <td>72</td>\n",
       "      <td>35</td>\n",
       "      <td>0</td>\n",
       "      <td>33.6</td>\n",
       "      <td>0.627</td>\n",
       "      <td>50</td>\n",
       "      <td>1</td>\n",
       "    </tr>\n",
       "    <tr>\n",
       "      <th>2</th>\n",
       "      <td>1</td>\n",
       "      <td>85</td>\n",
       "      <td>66</td>\n",
       "      <td>29</td>\n",
       "      <td>0</td>\n",
       "      <td>26.6</td>\n",
       "      <td>0.351</td>\n",
       "      <td>31</td>\n",
       "      <td>0</td>\n",
       "    </tr>\n",
       "    <tr>\n",
       "      <th>3</th>\n",
       "      <td>8</td>\n",
       "      <td>183</td>\n",
       "      <td>64</td>\n",
       "      <td>0</td>\n",
       "      <td>0</td>\n",
       "      <td>23.3</td>\n",
       "      <td>0.672</td>\n",
       "      <td>32</td>\n",
       "      <td>1</td>\n",
       "    </tr>\n",
       "    <tr>\n",
       "      <th>4</th>\n",
       "      <td>1</td>\n",
       "      <td>89</td>\n",
       "      <td>66</td>\n",
       "      <td>23</td>\n",
       "      <td>94</td>\n",
       "      <td>28.1</td>\n",
       "      <td>0.167</td>\n",
       "      <td>21</td>\n",
       "      <td>0</td>\n",
       "    </tr>\n",
       "  </tbody>\n",
       "</table>\n",
       "</div>"
      ],
      "text/plain": [
       "       Column1  Column2        Column3        Column4  Column5 Column6  \\\n",
       "0  Pregnancies  Glucose  BloodPressure  SkinThickness  Insulin     BMI   \n",
       "1            6      148             72             35        0    33.6   \n",
       "2            1       85             66             29        0    26.6   \n",
       "3            8      183             64              0        0    23.3   \n",
       "4            1       89             66             23       94    28.1   \n",
       "\n",
       "                    Column7 Column8  Column9  \n",
       "0  DiabetesPedigreeFunction     Age  Outcome  \n",
       "1                     0.627      50        1  \n",
       "2                     0.351      31        0  \n",
       "3                     0.672      32        1  \n",
       "4                     0.167      21        0  "
      ]
     },
     "execution_count": 8,
     "metadata": {},
     "output_type": "execute_result"
    }
   ],
   "source": [
    "#Display the first five records of the dataset\n",
    "df.head()"
   ]
  },
  {
   "cell_type": "code",
   "execution_count": 9,
   "metadata": {
    "gather": {
     "logged": 1618639952385
    }
   },
   "outputs": [
    {
     "name": "stdout",
     "output_type": "stream",
     "text": [
      "Found existing cluster, use it.\n",
      "Succeeded\n",
      "AmlCompute wait for completion finished\n",
      "\n",
      "Minimum number of nodes requested have been provisioned\n"
     ]
    }
   ],
   "source": [
    "# Create CPU cluster\n",
    "amlcompute_cluster_name = \"notebook138769\"\n",
    "\n",
    "# Verify if cluster does not exist otherwise use the existing one\n",
    "try:\n",
    "    compute_target = ComputeTarget(workspace=ws, name=amlcompute_cluster_name)\n",
    "    print('Found existing cluster, use it.')\n",
    "except ComputeTargetException:\n",
    "    compute_config = AmlCompute.provisioning_configuration(vm_size='Standard_DS12_V2',\n",
    "                                                           vm_priority = 'lowpriority', \n",
    "                                                           max_nodes=4)\n",
    "    compute_target = ComputeTarget.create(ws, amlcompute_cluster_name, compute_config)\n",
    "\n",
    "compute_target.wait_for_completion(show_output=True)\n"
   ]
  },
  {
   "cell_type": "markdown",
   "metadata": {},
   "source": [
    "## AutoML Configuration\n",
    "\n",
    "Overview of the automl settings and configuration used for this experiment:\n",
    "\n",
    "- \"experiment_timeout_minutes\": set to 30 minutes. The experiment will timeout after that period to avoid wasting resources.\n",
    "- \"max_concurrent_iterations\": is set to 4. The max number of concurrent iterations to be run in parallel at the same time.\n",
    "- \"primary_metric\" : is set to 'accuracy', which is a sutible metric for classification problems.\n",
    "- \"n_cross_validations\": is set to 5, therefore the training and validation sets will be divided into five equal sets.\n",
    "- \"iterations\": the number of iterations for the experiment is set to 20. It's a reasonable number and would provide the intendable result for the given dataset.\n",
    "- compute_target: set to the project cluster to run the experiment.\n",
    "- task: set to 'classification' since our target to predict whether the patient has diabetes or not.\n",
    "- training_data: the loaded dataset for the project.\n",
    "- label_column_name: set to the result/target colunm in the dataset 'Outcome' (0 or 1).\n",
    "- enable_early_stopping: is enabled to terminate the experiment if the accuracy score is not showing improvement over time.\n",
    "- featurization = is set to 'auto', it's an indicator of whether implementing a featurization step to preprocess/clean the dataset automatically or not. In our case, the preprocessing was applied for the numerical columns which normally involve treating missing values, cluster distance, the weight of evidence...etc.\n",
    "- debug_log: errors will be logged into 'automl_errors.log'.\n"
   ]
  },
  {
   "cell_type": "code",
   "execution_count": 10,
   "metadata": {
    "gather": {
     "logged": 1618639952633
    },
    "jupyter": {
     "outputs_hidden": false,
     "source_hidden": false
    },
    "nteract": {
     "transient": {
      "deleting": false
     }
    }
   },
   "outputs": [],
   "source": [
    "# Automl settings \n",
    "from azureml.train.automl import AutoMLConfig\n",
    "\n",
    "automl_settings = {\"experiment_timeout_minutes\": 30,\n",
    "    \"max_concurrent_iterations\": 4,\n",
    "    \"primary_metric\" : 'accuracy',\n",
    "    \"n_cross_validations\": 3,\n",
    "    \"iterations\": 24\n",
    "    \n",
    "}\n",
    "\n",
    "# Automl config \n",
    "automl_config = AutoMLConfig(compute_target=compute_target,\n",
    "                             task = 'classification',\n",
    "                             training_data=dataset,\n",
    "                             label_column_name='Column9',\n",
    "                             enable_early_stopping= True,\n",
    "                             featurization = 'auto',\n",
    "                             debug_log = 'automl_errors.log',\n",
    "                             **automl_settings\n",
    "                            )\n",
    "\n",
    "\n"
   ]
  },
  {
   "cell_type": "code",
   "execution_count": 13,
   "metadata": {
    "gather": {
     "logged": 1618639850701
    },
    "jupyter": {
     "outputs_hidden": false,
     "source_hidden": false
    },
    "nteract": {
     "transient": {
      "deleting": false
     }
    }
   },
   "outputs": [
    {
     "name": "stdout",
     "output_type": "stream",
     "text": [
      "Submitting remote run.\n",
      "Running on remote compute: notebook138769\n"
     ]
    },
    {
     "data": {
      "text/html": [
       "<table style=\"width:100%\"><tr><th>Experiment</th><th>Id</th><th>Type</th><th>Status</th><th>Details Page</th><th>Docs Page</th></tr><tr><td>automl</td><td>AutoML_aab911f6-6cfc-47ff-a2a7-e97204230e51</td><td>automl</td><td>NotStarted</td><td><a href=\"https://ml.azure.com/runs/AutoML_aab911f6-6cfc-47ff-a2a7-e97204230e51?wsid=/subscriptions/6b4af8be-9931-443e-90f6-c4c34a1f9737/resourcegroups/aml-quickstarts-142899/workspaces/quick-starts-ws-142899&amp;tid=660b3398-b80e-49d2-bc5b-ac1dc93b5254\" target=\"_blank\" rel=\"noopener\">Link to Azure Machine Learning studio</a></td><td><a href=\"https://docs.microsoft.com/en-us/python/api/overview/azure/ml/intro?view=azure-ml-py\" target=\"_blank\" rel=\"noopener\">Link to Documentation</a></td></tr></table>"
      ],
      "text/plain": [
       "<IPython.core.display.HTML object>"
      ]
     },
     "metadata": {},
     "output_type": "display_data"
    },
    {
     "name": "stdout",
     "output_type": "stream",
     "text": [
      "\n",
      "Current status: FeaturesGeneration. Generating features for the dataset.\n",
      "Current status: ModelSelection. Beginning model selection.\n",
      "\n",
      "****************************************************************************************************\n",
      "DATA GUARDRAILS: \n",
      "\n",
      "TYPE:         Class balancing detection\n",
      "STATUS:       ALERTED\n",
      "DESCRIPTION:  To decrease model bias, please cancel the current run and fix balancing problem.\n",
      "              Learn more about imbalanced data: https://aka.ms/AutomatedMLImbalancedData\n",
      "DETAILS:      Imbalanced data can lead to a falsely perceived positive effect of a model's accuracy because the input data has bias towards one class.\n",
      "+---------------------------------+---------------------------------+--------------------------------------+\n",
      "|Size of the smallest class       |Name/Label of the smallest class |Number of samples in the training data|\n",
      "+=================================+=================================+======================================+\n",
      "|1                                |Outcome                          |769                                   |\n",
      "+---------------------------------+---------------------------------+--------------------------------------+\n",
      "\n",
      "****************************************************************************************************\n",
      "\n",
      "TYPE:         Missing feature values imputation\n",
      "STATUS:       PASSED\n",
      "DESCRIPTION:  No feature missing values were detected in the training data.\n",
      "              Learn more about missing value imputation: https://aka.ms/AutomatedMLFeaturization\n",
      "\n",
      "****************************************************************************************************\n",
      "\n",
      "TYPE:         High cardinality feature detection\n",
      "STATUS:       DONE\n",
      "DESCRIPTION:  High cardinality features were detected in your inputs and handled.\n",
      "              Learn more about high cardinality feature handling: https://aka.ms/AutomatedMLFeaturization\n",
      "DETAILS:      High cardinality features refer to columns that contain a large percentage of unique values.\n",
      "+---------------------------------+---------------------------------+\n",
      "|Column name                      |Column Content Type              |\n",
      "+=================================+=================================+\n",
      "|Column2                          |categorical_hash                 |\n",
      "|Column3                          |categorical_hash                 |\n",
      "|Column4                          |categorical_hash                 |\n",
      "|Column5                          |categorical_hash                 |\n",
      "|Column6                          |categorical_hash                 |\n",
      "|Column7                          |categorical_hash                 |\n",
      "|Column8                          |categorical_hash                 |\n",
      "+---------------------------------+---------------------------------+\n",
      "\n",
      "****************************************************************************************************\n",
      "\n",
      "****************************************************************************************************\n",
      "ITERATION: The iteration being evaluated.\n",
      "PIPELINE: A summary description of the pipeline being evaluated.\n",
      "DURATION: Time taken for the current iteration.\n",
      "METRIC: The result of computing score on the fitted pipeline.\n",
      "BEST: The best observed score thus far.\n",
      "****************************************************************************************************\n",
      "\n",
      " ITERATION   PIPELINE                                       DURATION      METRIC      BEST\n",
      "         1   MaxAbsScaler XGBoostClassifier                 0:00:47       0.6515    0.6515\n",
      "         3   MaxAbsScaler RandomForest                      0:00:47       0.6502    0.6515\n",
      "         2   MaxAbsScaler RandomForest                      0:00:44       0.6580    0.6580\n",
      "         0   MaxAbsScaler LightGBM                          0:01:05       0.6281    0.6580\n",
      "         4   MaxAbsScaler RandomForest                      0:00:46       0.5369    0.6580\n",
      "         5   MaxAbsScaler RandomForest                      0:00:41       0.5747    0.6580\n",
      "         6   SparseNormalizer XGBoostClassifier             0:00:49       0.6450    0.6580\n",
      "         7   SparseNormalizer XGBoostClassifier             0:00:46       0.6346    0.6580\n",
      "         8   SparseNormalizer XGBoostClassifier             0:00:42       0.6281    0.6580\n",
      "        10   MaxAbsScaler RandomForest                      0:00:48       0.6476    0.6580\n",
      "        11   StandardScalerWrapper RandomForest             0:00:44       0.6229    0.6580\n",
      "        12   SparseNormalizer XGBoostClassifier             0:00:45       0.6528    0.6580\n",
      "        13   MaxAbsScaler LogisticRegression                0:00:40       0.6229    0.6580\n",
      "        14   MaxAbsScaler LightGBM                          0:00:43       0.6502    0.6580\n",
      "        15   SparseNormalizer LightGBM                      0:00:39       0.6502    0.6580\n",
      "         9   SparseNormalizer XGBoostClassifier             0:02:29       0.6437    0.6580\n",
      "        16   MaxAbsScaler LightGBM                          0:00:37       0.6502    0.6580\n",
      "        17   MaxAbsScaler LightGBM                          0:00:52       0.6359    0.6580\n",
      "        18   StandardScalerWrapper LightGBM                 0:00:45       0.6502    0.6580\n",
      "        19   SparseNormalizer XGBoostClassifier             0:00:52       0.6307    0.6580\n",
      "        20   MaxAbsScaler RandomForest                      0:00:44       0.6450    0.6580\n",
      "        21   MaxAbsScaler LightGBM                          0:00:42       0.6346    0.6580\n",
      "        22    VotingEnsemble                                0:00:56       0.6645    0.6645\n",
      "        23    StackEnsemble                                 0:00:56       0.5070    0.6645\n"
     ]
    }
   ],
   "source": [
    "# Submit experiment\n",
    "remote_run = experiment.submit(automl_config, show_output=True)"
   ]
  },
  {
   "cell_type": "markdown",
   "metadata": {},
   "source": [
    "## Run Details\n",
    "\n",
    "The best model has resulted from the AutoML experiment from VotingEnsemble model. The Voting Ensemble model takes a majority vote of several algorithms which makes it surpass individual algorithms and minimize the bias. \n",
    "\n",
    "Use the `RunDetails` widget to show the different experiments."
   ]
  },
  {
   "cell_type": "code",
   "execution_count": 14,
   "metadata": {
    "gather": {
     "logged": 1618637455765
    },
    "jupyter": {
     "outputs_hidden": false,
     "source_hidden": false
    },
    "nteract": {
     "transient": {
      "deleting": false
     }
    }
   },
   "outputs": [
    {
     "data": {
      "application/vnd.jupyter.widget-view+json": {
       "model_id": "a3182860233f4d78b3699435a0c1fe8c",
       "version_major": 2,
       "version_minor": 0
      },
      "text/plain": [
       "_AutoMLWidget(widget_settings={'childWidgetDisplay': 'popup', 'send_telemetry': False, 'log_level': 'INFO', 's…"
      ]
     },
     "metadata": {},
     "output_type": "display_data"
    },
    {
     "data": {
      "application/aml.mini.widget.v1": "{\"status\": \"Completed\", \"workbench_run_details_uri\": \"https://ml.azure.com/runs/AutoML_aab911f6-6cfc-47ff-a2a7-e97204230e51?wsid=/subscriptions/6b4af8be-9931-443e-90f6-c4c34a1f9737/resourcegroups/aml-quickstarts-142899/workspaces/quick-starts-ws-142899&tid=660b3398-b80e-49d2-bc5b-ac1dc93b5254\", \"run_id\": \"AutoML_aab911f6-6cfc-47ff-a2a7-e97204230e51\", \"run_properties\": {\"run_id\": \"AutoML_aab911f6-6cfc-47ff-a2a7-e97204230e51\", \"created_utc\": \"2021-04-17T06:24:58.29393Z\", \"properties\": {\"num_iterations\": \"24\", \"training_type\": \"TrainFull\", \"acquisition_function\": \"EI\", \"primary_metric\": \"accuracy\", \"train_split\": \"0\", \"acquisition_parameter\": \"0\", \"num_cross_validation\": \"3\", \"target\": \"notebook138769\", \"AMLSettingsJsonString\": \"{\\\"path\\\":null,\\\"name\\\":\\\"automl\\\",\\\"subscription_id\\\":\\\"6b4af8be-9931-443e-90f6-c4c34a1f9737\\\",\\\"resource_group\\\":\\\"aml-quickstarts-142899\\\",\\\"workspace_name\\\":\\\"quick-starts-ws-142899\\\",\\\"region\\\":\\\"southcentralus\\\",\\\"compute_target\\\":\\\"notebook138769\\\",\\\"spark_service\\\":null,\\\"azure_service\\\":\\\"remote\\\",\\\"many_models\\\":false,\\\"pipeline_fetch_max_batch_size\\\":1,\\\"enable_batch_run\\\":false,\\\"enable_run_restructure\\\":false,\\\"iterations\\\":24,\\\"primary_metric\\\":\\\"accuracy\\\",\\\"task_type\\\":\\\"classification\\\",\\\"data_script\\\":null,\\\"test_size\\\":0.0,\\\"validation_size\\\":0.0,\\\"n_cross_validations\\\":3,\\\"y_min\\\":null,\\\"y_max\\\":null,\\\"num_classes\\\":null,\\\"featurization\\\":\\\"auto\\\",\\\"_ignore_package_version_incompatibilities\\\":false,\\\"is_timeseries\\\":false,\\\"max_cores_per_iteration\\\":1,\\\"max_concurrent_iterations\\\":4,\\\"iteration_timeout_minutes\\\":null,\\\"mem_in_mb\\\":null,\\\"enforce_time_on_windows\\\":false,\\\"experiment_timeout_minutes\\\":30,\\\"experiment_exit_score\\\":null,\\\"whitelist_models\\\":null,\\\"blacklist_algos\\\":[\\\"TensorFlowLinearClassifier\\\",\\\"TensorFlowDNN\\\"],\\\"supported_models\\\":[\\\"BernoulliNaiveBayes\\\",\\\"TensorFlowDNN\\\",\\\"ExtremeRandomTrees\\\",\\\"XGBoostClassifier\\\",\\\"MultinomialNaiveBayes\\\",\\\"SGD\\\",\\\"DecisionTree\\\",\\\"LightGBM\\\",\\\"SVM\\\",\\\"LinearSVM\\\",\\\"GradientBoosting\\\",\\\"RandomForest\\\",\\\"LogisticRegression\\\",\\\"AveragedPerceptronClassifier\\\",\\\"KNN\\\",\\\"TensorFlowLinearClassifier\\\"],\\\"private_models\\\":[],\\\"auto_blacklist\\\":true,\\\"blacklist_samples_reached\\\":false,\\\"exclude_nan_labels\\\":true,\\\"verbosity\\\":20,\\\"_debug_log\\\":\\\"azureml_automl.log\\\",\\\"show_warnings\\\":false,\\\"model_explainability\\\":true,\\\"service_url\\\":null,\\\"sdk_url\\\":null,\\\"sdk_packages\\\":null,\\\"enable_onnx_compatible_models\\\":false,\\\"enable_split_onnx_featurizer_estimator_models\\\":false,\\\"vm_type\\\":\\\"STANDARD_DS12_V2\\\",\\\"telemetry_verbosity\\\":20,\\\"send_telemetry\\\":true,\\\"enable_dnn\\\":false,\\\"scenario\\\":\\\"SDK-1.13.0\\\",\\\"environment_label\\\":null,\\\"save_mlflow\\\":false,\\\"force_text_dnn\\\":false,\\\"enable_feature_sweeping\\\":true,\\\"enable_early_stopping\\\":true,\\\"early_stopping_n_iters\\\":10,\\\"metrics\\\":null,\\\"enable_metric_confidence\\\":false,\\\"enable_ensembling\\\":true,\\\"enable_stack_ensembling\\\":true,\\\"ensemble_iterations\\\":15,\\\"enable_tf\\\":false,\\\"enable_subsampling\\\":false,\\\"subsample_seed\\\":null,\\\"enable_nimbusml\\\":false,\\\"enable_streaming\\\":false,\\\"force_streaming\\\":false,\\\"track_child_runs\\\":true,\\\"allowed_private_models\\\":[],\\\"label_column_name\\\":\\\"Column9\\\",\\\"weight_column_name\\\":null,\\\"cv_split_column_names\\\":null,\\\"enable_local_managed\\\":false,\\\"_local_managed_run_id\\\":null,\\\"cost_mode\\\":1,\\\"lag_length\\\":0,\\\"metric_operation\\\":\\\"maximize\\\",\\\"preprocess\\\":true}\", \"DataPrepJsonString\": \"{\\\\\\\"training_data\\\\\\\": {\\\\\\\"datasetId\\\\\\\": \\\\\\\"d01f97c9-94ac-46ce-8ae0-2f6b6160e973\\\\\\\"}, \\\\\\\"datasets\\\\\\\": 0}\", \"EnableSubsampling\": \"False\", \"runTemplate\": \"AutoML\", \"azureml.runsource\": \"automl\", \"display_task_type\": \"classification\", \"dependencies_versions\": \"{\\\"azureml-widgets\\\": \\\"1.26.0\\\", \\\"azureml-train\\\": \\\"1.26.0\\\", \\\"azureml-train-restclients-hyperdrive\\\": \\\"1.26.0\\\", \\\"azureml-train-core\\\": \\\"1.26.0\\\", \\\"azureml-train-automl-client\\\": \\\"1.26.0\\\", \\\"azureml-tensorboard\\\": \\\"1.26.0\\\", \\\"azureml-telemetry\\\": \\\"1.26.0\\\", \\\"azureml-sdk\\\": \\\"1.26.0\\\", \\\"azureml-pipeline\\\": \\\"1.26.0\\\", \\\"azureml-pipeline-steps\\\": \\\"1.26.0\\\", \\\"azureml-pipeline-core\\\": \\\"1.26.0\\\", \\\"azureml-opendatasets\\\": \\\"1.26.0\\\", \\\"azureml-model-management-sdk\\\": \\\"1.0.1b6.post1\\\", \\\"azureml-mlflow\\\": \\\"1.26.0\\\", \\\"azureml-interpret\\\": \\\"1.26.0\\\", \\\"azureml-explain-model\\\": \\\"1.26.0\\\", \\\"azureml-defaults\\\": \\\"1.26.0\\\", \\\"azureml-dataset-runtime\\\": \\\"1.26.0\\\", \\\"azureml-dataprep\\\": \\\"2.13.2\\\", \\\"azureml-dataprep-rslex\\\": \\\"1.11.2\\\", \\\"azureml-dataprep-native\\\": \\\"32.0.0\\\", \\\"azureml-datadrift\\\": \\\"1.26.0\\\", \\\"azureml-core\\\": \\\"1.26.0\\\", \\\"azureml-contrib-services\\\": \\\"1.26.0\\\", \\\"azureml-contrib-server\\\": \\\"1.26.0\\\", \\\"azureml-contrib-reinforcementlearning\\\": \\\"1.26.0\\\", \\\"azureml-contrib-pipeline-steps\\\": \\\"1.26.0\\\", \\\"azureml-contrib-notebook\\\": \\\"1.26.0\\\", \\\"azureml-contrib-gbdt\\\": \\\"1.26.0\\\", \\\"azureml-contrib-fairness\\\": \\\"1.26.0\\\", \\\"azureml-contrib-dataset\\\": \\\"1.26.0\\\", \\\"azureml-cli-common\\\": \\\"1.26.0\\\", \\\"azureml-automl-core\\\": \\\"1.26.0\\\", \\\"azureml-accel-models\\\": \\\"1.26.0\\\"}\", \"_aml_system_scenario_identification\": \"Remote.Parent\", \"ClientType\": \"SDK\", \"environment_cpu_name\": \"AzureML-AutoML\", \"environment_cpu_label\": \"prod\", \"environment_gpu_name\": \"AzureML-AutoML-GPU\", \"environment_gpu_label\": \"prod\", \"root_attribution\": \"automl\", \"attribution\": \"AutoML\", \"Orchestrator\": \"AutoML\", \"CancelUri\": \"https://southcentralus.experiments.azureml.net/jasmine/v1.0/subscriptions/6b4af8be-9931-443e-90f6-c4c34a1f9737/resourceGroups/aml-quickstarts-142899/providers/Microsoft.MachineLearningServices/workspaces/quick-starts-ws-142899/experimentids/aa7b45e2-143f-47f0-911f-65cd5730a1ad/cancel/AutoML_aab911f6-6cfc-47ff-a2a7-e97204230e51\", \"ClientSdkVersion\": \"1.25.0\", \"snapshotId\": \"00000000-0000-0000-0000-000000000000\", \"SetupRunId\": \"AutoML_aab911f6-6cfc-47ff-a2a7-e97204230e51_setup\", \"SetupRunContainerId\": \"dcid.AutoML_aab911f6-6cfc-47ff-a2a7-e97204230e51_setup\", \"FeaturizationRunJsonPath\": \"featurizer_container.json\", \"FeaturizationRunId\": \"AutoML_aab911f6-6cfc-47ff-a2a7-e97204230e51_featurize\", \"ProblemInfoJsonString\": \"{\\\"dataset_num_categorical\\\": 0, \\\"is_sparse\\\": true, \\\"subsampling\\\": false, \\\"dataset_classes\\\": 3, \\\"dataset_features\\\": 1010, \\\"dataset_samples\\\": 769, \\\"single_frequency_class_detected\\\": true}\", \"ModelExplainRunId\": \"AutoML_aab911f6-6cfc-47ff-a2a7-e97204230e51_ModelExplain\"}, \"tags\": {\"model_explain_run\": \"best_run\", \"_aml_system_azureml.automlComponent\": \"AutoML\", \"pipeline_id\": \"\", \"score\": \"\", \"predicted_cost\": \"\", \"fit_time\": \"\", \"training_percent\": \"\", \"iteration\": \"\", \"run_preprocessor\": \"\", \"run_algorithm\": \"\", \"automl_best_child_run_id\": \"AutoML_aab911f6-6cfc-47ff-a2a7-e97204230e51_22\", \"model_explain_best_run_child_id\": \"AutoML_aab911f6-6cfc-47ff-a2a7-e97204230e51_22\"}, \"end_time_utc\": \"2021-04-17T06:45:35.747417Z\", \"status\": \"Completed\", \"log_files\": {}, \"log_groups\": [], \"run_duration\": \"0:20:37\", \"run_number\": \"99\", \"run_queued_details\": {\"status\": \"Completed\", \"details\": null}}, \"child_runs\": [{\"run_id\": \"AutoML_aab911f6-6cfc-47ff-a2a7-e97204230e51_1\", \"run_number\": 125, \"metric\": null, \"status\": \"Completed\", \"run_type\": \"azureml.scriptrun\", \"training_percent\": \"100\", \"start_time\": \"2021-04-17T06:33:29.728028Z\", \"end_time\": \"2021-04-17T06:34:16.435633Z\", \"created_time\": \"2021-04-17T06:30:59.720066Z\", \"created_time_dt\": \"2021-04-17T06:30:59.720066Z\", \"duration\": \"0:03:16\", \"iteration\": \"1\", \"goal\": \"accuracy_max\", \"run_name\": \"MaxAbsScaler, XGBoostClassifier\", \"run_properties\": \"copy=True\", \"primary_metric\": 0.65146218, \"best_metric\": 0.65146218}, {\"run_id\": \"AutoML_aab911f6-6cfc-47ff-a2a7-e97204230e51_2\", \"run_number\": 126, \"metric\": null, \"status\": \"Completed\", \"run_type\": \"azureml.scriptrun\", \"training_percent\": \"100\", \"start_time\": \"2021-04-17T06:33:40.653655Z\", \"end_time\": \"2021-04-17T06:34:24.230921Z\", \"created_time\": \"2021-04-17T06:30:59.865266Z\", \"created_time_dt\": \"2021-04-17T06:30:59.865266Z\", \"duration\": \"0:03:24\", \"iteration\": \"2\", \"goal\": \"accuracy_max\", \"run_name\": \"MaxAbsScaler, RandomForest\", \"run_properties\": \"copy=True\", \"primary_metric\": 0.6579574, \"best_metric\": 0.6579574}, {\"run_id\": \"AutoML_aab911f6-6cfc-47ff-a2a7-e97204230e51_3\", \"run_number\": 127, \"metric\": null, \"status\": \"Completed\", \"run_type\": \"azureml.scriptrun\", \"training_percent\": \"100\", \"start_time\": \"2021-04-17T06:33:28.644206Z\", \"end_time\": \"2021-04-17T06:34:15.48851Z\", \"created_time\": \"2021-04-17T06:30:59.975423Z\", \"created_time_dt\": \"2021-04-17T06:30:59.975423Z\", \"duration\": \"0:03:15\", \"iteration\": \"3\", \"goal\": \"accuracy_max\", \"run_name\": \"MaxAbsScaler, RandomForest\", \"run_properties\": \"copy=True\", \"primary_metric\": 0.6501601, \"best_metric\": 0.6579574}, {\"run_id\": \"AutoML_aab911f6-6cfc-47ff-a2a7-e97204230e51_0\", \"run_number\": 128, \"metric\": null, \"status\": \"Completed\", \"run_type\": \"azureml.scriptrun\", \"training_percent\": \"100\", \"start_time\": \"2021-04-17T06:33:41.703565Z\", \"end_time\": \"2021-04-17T06:34:46.475588Z\", \"created_time\": \"2021-04-17T06:31:00.000595Z\", \"created_time_dt\": \"2021-04-17T06:31:00.000595Z\", \"duration\": \"0:03:46\", \"iteration\": \"0\", \"goal\": \"accuracy_max\", \"run_name\": \"MaxAbsScaler, LightGBM\", \"run_properties\": \"copy=True\", \"primary_metric\": 0.62810575, \"best_metric\": 0.62810575}, {\"run_id\": \"AutoML_aab911f6-6cfc-47ff-a2a7-e97204230e51_4\", \"run_number\": 138, \"metric\": null, \"status\": \"Completed\", \"run_type\": \"azureml.scriptrun\", \"training_percent\": \"100\", \"start_time\": \"2021-04-17T06:36:41.845501Z\", \"end_time\": \"2021-04-17T06:37:27.646892Z\", \"created_time\": \"2021-04-17T06:34:18.073139Z\", \"created_time_dt\": \"2021-04-17T06:34:18.073139Z\", \"duration\": \"0:03:09\", \"iteration\": \"4\", \"goal\": \"accuracy_max\", \"run_name\": \"MaxAbsScaler, RandomForest\", \"run_properties\": \"copy=True\", \"primary_metric\": 0.53690418, \"best_metric\": 0.6579574}, {\"run_id\": \"AutoML_aab911f6-6cfc-47ff-a2a7-e97204230e51_5\", \"run_number\": 139, \"metric\": null, \"status\": \"Completed\", \"run_type\": \"azureml.scriptrun\", \"training_percent\": \"100\", \"start_time\": \"2021-04-17T06:36:45.01431Z\", \"end_time\": \"2021-04-17T06:37:26.26667Z\", \"created_time\": \"2021-04-17T06:34:21.730859Z\", \"created_time_dt\": \"2021-04-17T06:34:21.730859Z\", \"duration\": \"0:03:04\", \"iteration\": \"5\", \"goal\": \"accuracy_max\", \"run_name\": \"MaxAbsScaler, RandomForest\", \"run_properties\": \"copy=True\", \"primary_metric\": 0.57473553, \"best_metric\": 0.6579574}, {\"run_id\": \"AutoML_aab911f6-6cfc-47ff-a2a7-e97204230e51_6\", \"run_number\": 140, \"metric\": null, \"status\": \"Completed\", \"run_type\": \"azureml.scriptrun\", \"training_percent\": \"100\", \"start_time\": \"2021-04-17T06:37:02.217238Z\", \"end_time\": \"2021-04-17T06:37:50.787477Z\", \"created_time\": \"2021-04-17T06:34:26.960336Z\", \"created_time_dt\": \"2021-04-17T06:34:26.960336Z\", \"duration\": \"0:03:23\", \"iteration\": \"6\", \"goal\": \"accuracy_max\", \"run_name\": \"SparseNormalizer, XGBoostClassifier\", \"run_properties\": \"<azureml.automl.runtime.shared.model_wrappers.SparseNormalizer object at 0x7f9507658dd8\", \"primary_metric\": 0.6449771, \"best_metric\": 0.6579574}, {\"run_id\": \"AutoML_aab911f6-6cfc-47ff-a2a7-e97204230e51_7\", \"run_number\": 141, \"metric\": null, \"status\": \"Completed\", \"run_type\": \"azureml.scriptrun\", \"training_percent\": \"100\", \"start_time\": \"2021-04-17T06:37:41.455358Z\", \"end_time\": \"2021-04-17T06:38:27.006074Z\", \"created_time\": \"2021-04-17T06:34:48.722794Z\", \"created_time_dt\": \"2021-04-17T06:34:48.722794Z\", \"duration\": \"0:03:38\", \"iteration\": \"7\", \"goal\": \"accuracy_max\", \"run_name\": \"SparseNormalizer, XGBoostClassifier\", \"run_properties\": \"<azureml.automl.runtime.shared.model_wrappers.SparseNormalizer object at 0x7fd1e0f77da0\", \"primary_metric\": 0.63458577, \"best_metric\": 0.6579574}, {\"run_id\": \"AutoML_aab911f6-6cfc-47ff-a2a7-e97204230e51_8\", \"run_number\": 147, \"metric\": null, \"status\": \"Completed\", \"run_type\": \"azureml.scriptrun\", \"training_percent\": \"100\", \"start_time\": \"2021-04-17T06:39:03.885968Z\", \"end_time\": \"2021-04-17T06:39:45.927249Z\", \"created_time\": \"2021-04-17T06:37:28.37421Z\", \"created_time_dt\": \"2021-04-17T06:37:28.37421Z\", \"duration\": \"0:02:17\", \"iteration\": \"8\", \"goal\": \"accuracy_max\", \"run_name\": \"SparseNormalizer, XGBoostClassifier\", \"run_properties\": \"<azureml.automl.runtime.shared.model_wrappers.SparseNormalizer object at 0x7ff0e39bb5c0\", \"primary_metric\": 0.62810575, \"best_metric\": 0.6579574}, {\"run_id\": \"AutoML_aab911f6-6cfc-47ff-a2a7-e97204230e51_9\", \"run_number\": 148, \"metric\": null, \"status\": \"Completed\", \"run_type\": \"azureml.scriptrun\", \"training_percent\": \"100\", \"start_time\": \"2021-04-17T06:39:13.330915Z\", \"end_time\": \"2021-04-17T06:41:42.218038Z\", \"created_time\": \"2021-04-17T06:37:31.785856Z\", \"created_time_dt\": \"2021-04-17T06:37:31.785856Z\", \"duration\": \"0:04:10\", \"iteration\": \"9\", \"goal\": \"accuracy_max\", \"run_name\": \"SparseNormalizer, XGBoostClassifier\", \"run_properties\": \"<azureml.automl.runtime.shared.model_wrappers.SparseNormalizer object at 0x7ff8d19e1e80\", \"primary_metric\": 0.64367502, \"best_metric\": 0.6579574}, {\"run_id\": \"AutoML_aab911f6-6cfc-47ff-a2a7-e97204230e51_10\", \"run_number\": 149, \"metric\": null, \"status\": \"Completed\", \"run_type\": \"azureml.scriptrun\", \"training_percent\": \"100\", \"start_time\": \"2021-04-17T06:39:17.738249Z\", \"end_time\": \"2021-04-17T06:40:05.820548Z\", \"created_time\": \"2021-04-17T06:37:52.92731Z\", \"created_time_dt\": \"2021-04-17T06:37:52.92731Z\", \"duration\": \"0:02:12\", \"iteration\": \"10\", \"goal\": \"accuracy_max\", \"run_name\": \"MaxAbsScaler, RandomForest\", \"run_properties\": \"copy=True\", \"primary_metric\": 0.64758127, \"best_metric\": 0.6579574}, {\"run_id\": \"AutoML_aab911f6-6cfc-47ff-a2a7-e97204230e51_11\", \"run_number\": 150, \"metric\": null, \"status\": \"Completed\", \"run_type\": \"azureml.scriptrun\", \"training_percent\": \"100\", \"start_time\": \"2021-04-17T06:39:20.271198Z\", \"end_time\": \"2021-04-17T06:40:03.80728Z\", \"created_time\": \"2021-04-17T06:38:29.354277Z\", \"created_time_dt\": \"2021-04-17T06:38:29.354277Z\", \"duration\": \"0:01:34\", \"iteration\": \"11\", \"goal\": \"accuracy_max\", \"run_name\": \"StandardScalerWrapper, RandomForest\", \"run_properties\": \"<azureml.automl.runtime.shared.model_wrappers.StandardScalerWrapper object at 0x7f83df1b7198\", \"primary_metric\": 0.62292275, \"best_metric\": 0.6579574}, {\"run_id\": \"AutoML_aab911f6-6cfc-47ff-a2a7-e97204230e51_12\", \"run_number\": 153, \"metric\": null, \"status\": \"Completed\", \"run_type\": \"azureml.scriptrun\", \"training_percent\": \"100\", \"start_time\": \"2021-04-17T06:40:05.527578Z\", \"end_time\": \"2021-04-17T06:40:50.9135Z\", \"created_time\": \"2021-04-17T06:39:47.614503Z\", \"created_time_dt\": \"2021-04-17T06:39:47.614503Z\", \"duration\": \"0:01:03\", \"iteration\": \"12\", \"goal\": \"accuracy_max\", \"run_name\": \"SparseNormalizer, XGBoostClassifier\", \"run_properties\": \"<azureml.automl.runtime.shared.model_wrappers.SparseNormalizer object at 0x7f7719584048\", \"primary_metric\": 0.6527592, \"best_metric\": 0.6579574}, {\"run_id\": \"AutoML_aab911f6-6cfc-47ff-a2a7-e97204230e51_13\", \"run_number\": 154, \"metric\": null, \"status\": \"Completed\", \"run_type\": \"azureml.scriptrun\", \"training_percent\": \"100\", \"start_time\": \"2021-04-17T06:40:18.802055Z\", \"end_time\": \"2021-04-17T06:40:59.044894Z\", \"created_time\": \"2021-04-17T06:40:06.885387Z\", \"created_time_dt\": \"2021-04-17T06:40:06.885387Z\", \"duration\": \"0:00:52\", \"iteration\": \"13\", \"goal\": \"accuracy_max\", \"run_name\": \"MaxAbsScaler, LogisticRegression\", \"run_properties\": \"copy=True\", \"primary_metric\": 0.62289235, \"best_metric\": 0.6579574}, {\"run_id\": \"AutoML_aab911f6-6cfc-47ff-a2a7-e97204230e51_14\", \"run_number\": 155, \"metric\": null, \"status\": \"Completed\", \"run_type\": \"azureml.scriptrun\", \"training_percent\": \"100\", \"start_time\": \"2021-04-17T06:40:22.801068Z\", \"end_time\": \"2021-04-17T06:41:05.65696Z\", \"created_time\": \"2021-04-17T06:40:12.192531Z\", \"created_time_dt\": \"2021-04-17T06:40:12.192531Z\", \"duration\": \"0:00:53\", \"iteration\": \"14\", \"goal\": \"accuracy_max\", \"run_name\": \"MaxAbsScaler, LightGBM\", \"run_properties\": \"copy=True\", \"primary_metric\": 0.6501601, \"best_metric\": 0.6579574}, {\"run_id\": \"AutoML_aab911f6-6cfc-47ff-a2a7-e97204230e51_15\", \"run_number\": 156, \"metric\": null, \"status\": \"Completed\", \"run_type\": \"azureml.scriptrun\", \"training_percent\": \"100\", \"start_time\": \"2021-04-17T06:41:05.018949Z\", \"end_time\": \"2021-04-17T06:41:44.354594Z\", \"created_time\": \"2021-04-17T06:40:53.227444Z\", \"created_time_dt\": \"2021-04-17T06:40:53.227444Z\", \"duration\": \"0:00:51\", \"iteration\": \"15\", \"goal\": \"accuracy_max\", \"run_name\": \"SparseNormalizer, LightGBM\", \"run_properties\": \"<azureml.automl.runtime.shared.model_wrappers.SparseNormalizer object at 0x7fcce6a15940\", \"primary_metric\": 0.6501601, \"best_metric\": 0.6579574}, {\"run_id\": \"AutoML_aab911f6-6cfc-47ff-a2a7-e97204230e51_16\", \"run_number\": 157, \"metric\": null, \"status\": \"Completed\", \"run_type\": \"azureml.scriptrun\", \"training_percent\": \"100\", \"start_time\": \"2021-04-17T06:42:09.869695Z\", \"end_time\": \"2021-04-17T06:42:46.840728Z\", \"created_time\": \"2021-04-17T06:41:01.191186Z\", \"created_time_dt\": \"2021-04-17T06:41:01.191186Z\", \"duration\": \"0:01:45\", \"iteration\": \"16\", \"goal\": \"accuracy_max\", \"run_name\": \"MaxAbsScaler, LightGBM\", \"run_properties\": \"copy=True\", \"primary_metric\": 0.6501601, \"best_metric\": 0.6579574}, {\"run_id\": \"AutoML_aab911f6-6cfc-47ff-a2a7-e97204230e51_17\", \"run_number\": 158, \"metric\": null, \"status\": \"Completed\", \"run_type\": \"azureml.scriptrun\", \"training_percent\": \"100\", \"start_time\": \"2021-04-17T06:42:27.996085Z\", \"end_time\": \"2021-04-17T06:43:19.692212Z\", \"created_time\": \"2021-04-17T06:41:08.952317Z\", \"created_time_dt\": \"2021-04-17T06:41:08.952317Z\", \"duration\": \"0:02:10\", \"iteration\": \"17\", \"goal\": \"accuracy_max\", \"run_name\": \"MaxAbsScaler, LightGBM\", \"run_properties\": \"copy=True\", \"primary_metric\": 0.63589798, \"best_metric\": 0.6579574}, {\"run_id\": \"AutoML_aab911f6-6cfc-47ff-a2a7-e97204230e51_18\", \"run_number\": 159, \"metric\": null, \"status\": \"Completed\", \"run_type\": \"azureml.scriptrun\", \"training_percent\": \"100\", \"start_time\": \"2021-04-17T06:42:55.51438Z\", \"end_time\": \"2021-04-17T06:43:41.011094Z\", \"created_time\": \"2021-04-17T06:41:44.089638Z\", \"created_time_dt\": \"2021-04-17T06:41:44.089638Z\", \"duration\": \"0:01:56\", \"iteration\": \"18\", \"goal\": \"accuracy_max\", \"run_name\": \"StandardScalerWrapper, LightGBM\", \"run_properties\": \"<azureml.automl.runtime.shared.model_wrappers.StandardScalerWrapper object at 0x7f21e0b767b8\", \"primary_metric\": 0.65015503, \"best_metric\": 0.6579574}, {\"run_id\": \"AutoML_aab911f6-6cfc-47ff-a2a7-e97204230e51_19\", \"run_number\": 160, \"metric\": null, \"status\": \"Completed\", \"run_type\": \"azureml.scriptrun\", \"training_percent\": \"100\", \"start_time\": \"2021-04-17T06:42:53.476281Z\", \"end_time\": \"2021-04-17T06:43:44.995082Z\", \"created_time\": \"2021-04-17T06:41:47.560078Z\", \"created_time_dt\": \"2021-04-17T06:41:47.560078Z\", \"duration\": \"0:01:57\", \"iteration\": \"19\", \"goal\": \"accuracy_max\", \"run_name\": \"SparseNormalizer, XGBoostClassifier\", \"run_properties\": \"<azureml.automl.runtime.shared.model_wrappers.SparseNormalizer object at 0x7f8206b2e278\", \"primary_metric\": 0.63071498, \"best_metric\": 0.6579574}, {\"run_id\": \"AutoML_aab911f6-6cfc-47ff-a2a7-e97204230e51_20\", \"run_number\": 161, \"metric\": null, \"status\": \"Completed\", \"run_type\": \"azureml.scriptrun\", \"training_percent\": \"100\", \"start_time\": \"2021-04-17T06:43:15.199684Z\", \"end_time\": \"2021-04-17T06:43:59.243683Z\", \"created_time\": \"2021-04-17T06:42:48.635384Z\", \"created_time_dt\": \"2021-04-17T06:42:48.635384Z\", \"duration\": \"0:01:10\", \"iteration\": \"20\", \"goal\": \"accuracy_max\", \"run_name\": \"MaxAbsScaler, RandomForest\", \"run_properties\": \"copy=True\", \"primary_metric\": 0.64497203, \"best_metric\": 0.6579574}, {\"run_id\": \"AutoML_aab911f6-6cfc-47ff-a2a7-e97204230e51_21\", \"run_number\": 162, \"metric\": null, \"status\": \"Completed\", \"run_type\": \"azureml.scriptrun\", \"training_percent\": \"100\", \"start_time\": \"2021-04-17T06:43:39.41554Z\", \"end_time\": \"2021-04-17T06:44:21.43346Z\", \"created_time\": \"2021-04-17T06:43:21.336611Z\", \"created_time_dt\": \"2021-04-17T06:43:21.336611Z\", \"duration\": \"0:01:00\", \"iteration\": \"21\", \"goal\": \"accuracy_max\", \"run_name\": \"MaxAbsScaler, LightGBM\", \"run_properties\": \"copy=True\", \"primary_metric\": 0.63460096, \"best_metric\": 0.6579574}, {\"run_id\": \"AutoML_aab911f6-6cfc-47ff-a2a7-e97204230e51_22\", \"run_number\": 163, \"metric\": null, \"status\": \"Completed\", \"run_type\": \"azureml.scriptrun\", \"training_percent\": \"100\", \"start_time\": \"2021-04-17T06:44:36.632983Z\", \"end_time\": \"2021-04-17T06:45:32.358362Z\", \"created_time\": \"2021-04-17T06:44:22.175625Z\", \"created_time_dt\": \"2021-04-17T06:44:22.175625Z\", \"duration\": \"0:01:10\", \"iteration\": \"22\", \"goal\": \"accuracy_max\", \"run_name\": \"VotingEnsemble\", \"run_properties\": \"classification_labels=None,\\n                              estimators=[('2',\\n                                           Pipeline(memory=None,\\n                                                    steps=[('maxabsscaler',\\n                                                            MaxAbsScaler(copy=True\", \"primary_metric\": 0.66448808, \"best_metric\": 0.66448808}, {\"run_id\": \"AutoML_aab911f6-6cfc-47ff-a2a7-e97204230e51_23\", \"run_number\": 164, \"metric\": null, \"status\": \"Completed\", \"run_type\": \"azureml.scriptrun\", \"training_percent\": \"100\", \"start_time\": \"2021-04-17T06:44:37.622306Z\", \"end_time\": \"2021-04-17T06:45:33.378083Z\", \"created_time\": \"2021-04-17T06:44:22.208255Z\", \"created_time_dt\": \"2021-04-17T06:44:22.208255Z\", \"duration\": \"0:01:11\", \"iteration\": \"23\", \"goal\": \"accuracy_max\", \"run_name\": \"StackEnsemble\", \"run_properties\": \"base_learners=[('2',\\n                                        Pipeline(memory=None,\\n                                                 steps=[('maxabsscaler',\\n                                                         MaxAbsScaler(copy=True\", \"primary_metric\": 0.50699173, \"best_metric\": 0.66448808}], \"children_metrics\": {\"categories\": [0], \"series\": {\"average_precision_score_macro\": [{\"categories\": [\"0\", \"1\", \"2\", \"3\", \"4\", \"5\", \"6\", \"7\", \"8\", \"9\", \"10\", \"11\", \"12\", \"13\", \"14\", \"15\", \"16\", \"17\", \"18\", \"19\", \"20\", \"21\", \"22\", \"23\"], \"mode\": \"markers\", \"name\": \"average_precision_score_macro\", \"stepped\": false, \"type\": \"scatter\", \"data\": [0.5390311508014806, 0.5542542169346734, 0.5596697650116187, 0.51491987188085, 0.525562317702386, 0.5320323605845398, 0.5528154302908413, 0.5520987173192965, 0.5457065869338663, 0.5315650934938404, 0.5492126201989252, 0.5441646802754045, 0.5327050988357379, 0.5401286600374459, 0.5403632352094778, 0.5392387046672633, 0.5534815163033551, 0.5503187181715941, 0.5541402474186711, 0.5487768883844226, 0.556678490685348, 0.5418371102297178, 0.5633522835284259, 0.5417197481145217]}, {\"categories\": [\"0\", \"1\", \"2\", \"3\", \"4\", \"5\", \"6\", \"7\", \"8\", \"9\", \"10\", \"11\", \"12\", \"13\", \"14\", \"15\", \"16\", \"17\", \"18\", \"19\", \"20\", \"21\", \"22\", \"23\"], \"mode\": \"lines\", \"name\": \"average_precision_score_macro_max\", \"stepped\": true, \"type\": \"scatter\", \"data\": [0.5390311508014806, 0.5542542169346734, 0.5596697650116187, 0.5596697650116187, 0.5596697650116187, 0.5596697650116187, 0.5596697650116187, 0.5596697650116187, 0.5596697650116187, 0.5596697650116187, 0.5596697650116187, 0.5596697650116187, 0.5596697650116187, 0.5596697650116187, 0.5596697650116187, 0.5596697650116187, 0.5596697650116187, 0.5596697650116187, 0.5596697650116187, 0.5596697650116187, 0.5596697650116187, 0.5596697650116187, 0.5633522835284259, 0.5633522835284259]}], \"f1_score_micro\": [{\"categories\": [\"0\", \"1\", \"2\", \"3\", \"4\", \"5\", \"6\", \"7\", \"8\", \"9\", \"10\", \"11\", \"12\", \"13\", \"14\", \"15\", \"16\", \"17\", \"18\", \"19\", \"20\", \"21\", \"22\", \"23\"], \"mode\": \"markers\", \"name\": \"f1_score_micro\", \"stepped\": false, \"type\": \"scatter\", \"data\": [0.6281057474059663, 0.65146218385214, 0.6579574011024644, 0.6501601005188068, 0.5369041828793774, 0.574735530155642, 0.6449770995460441, 0.6345857652399481, 0.6281057474059663, 0.6436750162127107, 0.6475812662127107, 0.6229227464332037, 0.6527592007133592, 0.6228923476005188, 0.6501601005188068, 0.6501601005188068, 0.6501601005188068, 0.6358979815175098, 0.6501550340466926, 0.6307149805447471, 0.6449720330739299, 0.6346009646562906, 0.6644880836575876, 0.5069917315175098]}, {\"categories\": [\"0\", \"1\", \"2\", \"3\", \"4\", \"5\", \"6\", \"7\", \"8\", \"9\", \"10\", \"11\", \"12\", \"13\", \"14\", \"15\", \"16\", \"17\", \"18\", \"19\", \"20\", \"21\", \"22\", \"23\"], \"mode\": \"lines\", \"name\": \"f1_score_micro_max\", \"stepped\": true, \"type\": \"scatter\", \"data\": [0.6281057474059663, 0.65146218385214, 0.6579574011024644, 0.6579574011024644, 0.6579574011024644, 0.6579574011024644, 0.6579574011024644, 0.6579574011024644, 0.6579574011024644, 0.6579574011024644, 0.6579574011024644, 0.6579574011024644, 0.6579574011024644, 0.6579574011024644, 0.6579574011024644, 0.6579574011024644, 0.6579574011024644, 0.6579574011024644, 0.6579574011024644, 0.6579574011024644, 0.6579574011024644, 0.6579574011024644, 0.6644880836575876, 0.6644880836575876]}], \"recall_score_weighted\": [{\"categories\": [\"0\", \"1\", \"2\", \"3\", \"4\", \"5\", \"6\", \"7\", \"8\", \"9\", \"10\", \"11\", \"12\", \"13\", \"14\", \"15\", \"16\", \"17\", \"18\", \"19\", \"20\", \"21\", \"22\", \"23\"], \"mode\": \"markers\", \"name\": \"recall_score_weighted\", \"stepped\": false, \"type\": \"scatter\", \"data\": [0.6281057474059663, 0.65146218385214, 0.6579574011024644, 0.6501601005188068, 0.5369041828793774, 0.574735530155642, 0.6449770995460441, 0.6345857652399481, 0.6281057474059663, 0.6436750162127107, 0.6475812662127107, 0.6229227464332037, 0.6527592007133592, 0.6228923476005188, 0.6501601005188068, 0.6501601005188068, 0.6501601005188068, 0.6358979815175098, 0.6501550340466926, 0.6307149805447471, 0.6449720330739299, 0.6346009646562906, 0.6644880836575876, 0.5069917315175098]}, {\"categories\": [\"0\", \"1\", \"2\", \"3\", \"4\", \"5\", \"6\", \"7\", \"8\", \"9\", \"10\", \"11\", \"12\", \"13\", \"14\", \"15\", \"16\", \"17\", \"18\", \"19\", \"20\", \"21\", \"22\", \"23\"], \"mode\": \"lines\", \"name\": \"recall_score_weighted_max\", \"stepped\": true, \"type\": \"scatter\", \"data\": [0.6281057474059663, 0.65146218385214, 0.6579574011024644, 0.6579574011024644, 0.6579574011024644, 0.6579574011024644, 0.6579574011024644, 0.6579574011024644, 0.6579574011024644, 0.6579574011024644, 0.6579574011024644, 0.6579574011024644, 0.6579574011024644, 0.6579574011024644, 0.6579574011024644, 0.6579574011024644, 0.6579574011024644, 0.6579574011024644, 0.6579574011024644, 0.6579574011024644, 0.6579574011024644, 0.6579574011024644, 0.6644880836575876, 0.6644880836575876]}], \"AUC_micro\": [{\"categories\": [\"0\", \"1\", \"2\", \"3\", \"4\", \"5\", \"6\", \"7\", \"8\", \"9\", \"10\", \"11\", \"12\", \"13\", \"14\", \"15\", \"16\", \"17\", \"18\", \"19\", \"20\", \"21\", \"22\", \"23\"], \"mode\": \"markers\", \"name\": \"AUC_micro\", \"stepped\": false, \"type\": \"scatter\", \"data\": [0.8432872299795533, 0.8559825624244749, 0.8585622311829636, 0.847185826058159, 0.7399674136499054, 0.8020000871774808, 0.8524762407523762, 0.854199521015671, 0.8492669272236407, 0.848265718614685, 0.8562287844637524, 0.8488911165797858, 0.8553398242560339, 0.8413243966157299, 0.8558132220126282, 0.8553672603822857, 0.8602328364464427, 0.8553772155933906, 0.856288372843117, 0.8511640342547567, 0.8578642871851319, 0.8557635370376274, 0.8611467243407448, 0.674390879104615]}, {\"categories\": [\"0\", \"1\", \"2\", \"3\", \"4\", \"5\", \"6\", \"7\", \"8\", \"9\", \"10\", \"11\", \"12\", \"13\", \"14\", \"15\", \"16\", \"17\", \"18\", \"19\", \"20\", \"21\", \"22\", \"23\"], \"mode\": \"lines\", \"name\": \"AUC_micro_max\", \"stepped\": true, \"type\": \"scatter\", \"data\": [0.8432872299795533, 0.8559825624244749, 0.8585622311829636, 0.8585622311829636, 0.8585622311829636, 0.8585622311829636, 0.8585622311829636, 0.8585622311829636, 0.8585622311829636, 0.8585622311829636, 0.8585622311829636, 0.8585622311829636, 0.8585622311829636, 0.8585622311829636, 0.8585622311829636, 0.8585622311829636, 0.8602328364464427, 0.8602328364464427, 0.8602328364464427, 0.8602328364464427, 0.8602328364464427, 0.8602328364464427, 0.8611467243407448, 0.8611467243407448]}], \"accuracy\": [{\"categories\": [\"0\", \"1\", \"2\", \"3\", \"4\", \"5\", \"6\", \"7\", \"8\", \"9\", \"10\", \"11\", \"12\", \"13\", \"14\", \"15\", \"16\", \"17\", \"18\", \"19\", \"20\", \"21\", \"22\", \"23\"], \"mode\": \"markers\", \"name\": \"accuracy\", \"stepped\": false, \"type\": \"scatter\", \"data\": [0.6281057474059663, 0.65146218385214, 0.6579574011024644, 0.6501601005188068, 0.5369041828793774, 0.574735530155642, 0.6449770995460441, 0.6345857652399481, 0.6281057474059663, 0.6436750162127107, 0.6475812662127107, 0.6229227464332037, 0.6527592007133592, 0.6228923476005188, 0.6501601005188068, 0.6501601005188068, 0.6501601005188068, 0.6358979815175098, 0.6501550340466926, 0.6307149805447471, 0.6449720330739299, 0.6346009646562906, 0.6644880836575876, 0.5069917315175098]}, {\"categories\": [\"0\", \"1\", \"2\", \"3\", \"4\", \"5\", \"6\", \"7\", \"8\", \"9\", \"10\", \"11\", \"12\", \"13\", \"14\", \"15\", \"16\", \"17\", \"18\", \"19\", \"20\", \"21\", \"22\", \"23\"], \"mode\": \"lines\", \"name\": \"accuracy_max\", \"stepped\": true, \"type\": \"scatter\", \"data\": [0.6281057474059663, 0.65146218385214, 0.6579574011024644, 0.6579574011024644, 0.6579574011024644, 0.6579574011024644, 0.6579574011024644, 0.6579574011024644, 0.6579574011024644, 0.6579574011024644, 0.6579574011024644, 0.6579574011024644, 0.6579574011024644, 0.6579574011024644, 0.6579574011024644, 0.6579574011024644, 0.6579574011024644, 0.6579574011024644, 0.6579574011024644, 0.6579574011024644, 0.6579574011024644, 0.6579574011024644, 0.6644880836575876, 0.6644880836575876]}], \"precision_score_macro\": [{\"categories\": [\"0\", \"1\", \"2\", \"3\", \"4\", \"5\", \"6\", \"7\", \"8\", \"9\", \"10\", \"11\", \"12\", \"13\", \"14\", \"15\", \"16\", \"17\", \"18\", \"19\", \"20\", \"21\", \"22\", \"23\"], \"mode\": \"markers\", \"name\": \"precision_score_macro\", \"stepped\": false, \"type\": \"scatter\", \"data\": [0.4445012403710083, 0.520831135444694, 0.5583636136315874, 0.2897067863705145, 0.44933831536163193, 0.4669078581445185, 0.5167204708715613, 0.4942988558583634, 0.5023008366099354, 0.4903667811644888, 0.5084469993342015, 0.4886576394579894, 0.5685773136354279, 0.5080508151172234, 0.2897067863705145, 0.2897067863705145, 0.34538195588057574, 0.43591518798544016, 0.4012570521975194, 0.4983388233459361, 0.49143622416102123, 0.40059292969690347, 0.541814971736849, 0.42838853312595454]}, {\"categories\": [\"0\", \"1\", \"2\", \"3\", \"4\", \"5\", \"6\", \"7\", \"8\", \"9\", \"10\", \"11\", \"12\", \"13\", \"14\", \"15\", \"16\", \"17\", \"18\", \"19\", \"20\", \"21\", \"22\", \"23\"], \"mode\": \"lines\", \"name\": \"precision_score_macro_max\", \"stepped\": true, \"type\": \"scatter\", \"data\": [0.4445012403710083, 0.520831135444694, 0.5583636136315874, 0.5583636136315874, 0.5583636136315874, 0.5583636136315874, 0.5583636136315874, 0.5583636136315874, 0.5583636136315874, 0.5583636136315874, 0.5583636136315874, 0.5583636136315874, 0.5685773136354279, 0.5685773136354279, 0.5685773136354279, 0.5685773136354279, 0.5685773136354279, 0.5685773136354279, 0.5685773136354279, 0.5685773136354279, 0.5685773136354279, 0.5685773136354279, 0.5685773136354279, 0.5685773136354279]}], \"AUC_weighted\": [{\"categories\": [\"0\", \"1\", \"2\", \"3\", \"4\", \"5\", \"6\", \"7\", \"8\", \"9\", \"10\", \"11\", \"12\", \"13\", \"14\", \"15\", \"16\", \"17\", \"18\", \"19\", \"20\", \"21\", \"22\", \"23\"], \"mode\": \"markers\", \"name\": \"AUC_weighted\", \"stepped\": false, \"type\": \"scatter\", \"data\": [0.6336769117480024, 0.6490127631867753, 0.6484777430384203, 0.5998874203168104, 0.5726326642858378, 0.6225166283674729, 0.6471322087800224, 0.6436777319496774, 0.6408157586351302, 0.613632480976702, 0.6463188812012935, 0.6329497783256992, 0.6341685250073709, 0.6373465644597746, 0.6379932934393581, 0.6356678607941219, 0.6570607141437189, 0.6487841244178636, 0.6394291737113939, 0.641101610518569, 0.6509052078922718, 0.6432586237131127, 0.658691290010985, 0.6167833517844462]}, {\"categories\": [\"0\", \"1\", \"2\", \"3\", \"4\", \"5\", \"6\", \"7\", \"8\", \"9\", \"10\", \"11\", \"12\", \"13\", \"14\", \"15\", \"16\", \"17\", \"18\", \"19\", \"20\", \"21\", \"22\", \"23\"], \"mode\": \"lines\", \"name\": \"AUC_weighted_max\", \"stepped\": true, \"type\": \"scatter\", \"data\": [0.6336769117480024, 0.6490127631867753, 0.6490127631867753, 0.6490127631867753, 0.6490127631867753, 0.6490127631867753, 0.6490127631867753, 0.6490127631867753, 0.6490127631867753, 0.6490127631867753, 0.6490127631867753, 0.6490127631867753, 0.6490127631867753, 0.6490127631867753, 0.6490127631867753, 0.6490127631867753, 0.6570607141437189, 0.6570607141437189, 0.6570607141437189, 0.6570607141437189, 0.6570607141437189, 0.6570607141437189, 0.658691290010985, 0.658691290010985]}], \"recall_score_macro\": [{\"categories\": [\"0\", \"1\", \"2\", \"3\", \"4\", \"5\", \"6\", \"7\", \"8\", \"9\", \"10\", \"11\", \"12\", \"13\", \"14\", \"15\", \"16\", \"17\", \"18\", \"19\", \"20\", \"21\", \"22\", \"23\"], \"mode\": \"markers\", \"name\": \"recall_score_macro\", \"stepped\": false, \"type\": \"scatter\", \"data\": [0.4318736382500679, 0.4842055353009509, 0.46467750158025495, 0.4444444444444444, 0.3957630406696455, 0.4663565516114853, 0.4922910830284157, 0.4714068628757461, 0.48787659340461315, 0.4598373171359857, 0.4689133170009503, 0.47038183358334623, 0.44929476899068277, 0.5027500812098868, 0.4444444444444444, 0.4444444444444444, 0.4449705106546931, 0.45014236025151816, 0.4464801594078167, 0.48065200524598123, 0.45179105521619434, 0.44685824111867983, 0.4736910437514257, 0.42521641880306155]}, {\"categories\": [\"0\", \"1\", \"2\", \"3\", \"4\", \"5\", \"6\", \"7\", \"8\", \"9\", \"10\", \"11\", \"12\", \"13\", \"14\", \"15\", \"16\", \"17\", \"18\", \"19\", \"20\", \"21\", \"22\", \"23\"], \"mode\": \"lines\", \"name\": \"recall_score_macro_max\", \"stepped\": true, \"type\": \"scatter\", \"data\": [0.4318736382500679, 0.4842055353009509, 0.4842055353009509, 0.4842055353009509, 0.4842055353009509, 0.4842055353009509, 0.4922910830284157, 0.4922910830284157, 0.4922910830284157, 0.4922910830284157, 0.4922910830284157, 0.4922910830284157, 0.4922910830284157, 0.5027500812098868, 0.5027500812098868, 0.5027500812098868, 0.5027500812098868, 0.5027500812098868, 0.5027500812098868, 0.5027500812098868, 0.5027500812098868, 0.5027500812098868, 0.5027500812098868, 0.5027500812098868]}], \"average_precision_score_micro\": [{\"categories\": [\"0\", \"1\", \"2\", \"3\", \"4\", \"5\", \"6\", \"7\", \"8\", \"9\", \"10\", \"11\", \"12\", \"13\", \"14\", \"15\", \"16\", \"17\", \"18\", \"19\", \"20\", \"21\", \"22\", \"23\"], \"mode\": \"markers\", \"name\": \"average_precision_score_micro\", \"stepped\": false, \"type\": \"scatter\", \"data\": [0.6836686262609944, 0.7133791837147548, 0.7161497101643404, 0.6740107598529291, 0.5413025974630258, 0.6050924838995583, 0.707067512384293, 0.7141722081940194, 0.6997909725282941, 0.6944622079052144, 0.7161448829662339, 0.703280823499782, 0.6871492550411714, 0.6794778935656908, 0.7105814287280392, 0.7121440836428145, 0.7172182249144138, 0.7163304042811474, 0.7130757410050327, 0.7056596594785072, 0.720180825390394, 0.714024954047812, 0.7249895402317893, 0.5808219642977578]}, {\"categories\": [\"0\", \"1\", \"2\", \"3\", \"4\", \"5\", \"6\", \"7\", \"8\", \"9\", \"10\", \"11\", \"12\", \"13\", \"14\", \"15\", \"16\", \"17\", \"18\", \"19\", \"20\", \"21\", \"22\", \"23\"], \"mode\": \"lines\", \"name\": \"average_precision_score_micro_max\", \"stepped\": true, \"type\": \"scatter\", \"data\": [0.6836686262609944, 0.7133791837147548, 0.7161497101643404, 0.7161497101643404, 0.7161497101643404, 0.7161497101643404, 0.7161497101643404, 0.7161497101643404, 0.7161497101643404, 0.7161497101643404, 0.7161497101643404, 0.7161497101643404, 0.7161497101643404, 0.7161497101643404, 0.7161497101643404, 0.7161497101643404, 0.7172182249144138, 0.7172182249144138, 0.7172182249144138, 0.7172182249144138, 0.720180825390394, 0.720180825390394, 0.7249895402317893, 0.7249895402317893]}], \"balanced_accuracy\": [{\"categories\": [\"0\", \"1\", \"2\", \"3\", \"4\", \"5\", \"6\", \"7\", \"8\", \"9\", \"10\", \"11\", \"12\", \"13\", \"14\", \"15\", \"16\", \"17\", \"18\", \"19\", \"20\", \"21\", \"22\", \"23\"], \"mode\": \"markers\", \"name\": \"balanced_accuracy\", \"stepped\": false, \"type\": \"scatter\", \"data\": [0.4318736382500679, 0.4842055353009509, 0.46467750158025495, 0.4444444444444444, 0.3957630406696455, 0.4663565516114853, 0.4922910830284157, 0.4714068628757461, 0.48787659340461315, 0.4598373171359857, 0.4689133170009503, 0.47038183358334623, 0.44929476899068277, 0.5027500812098868, 0.4444444444444444, 0.4444444444444444, 0.4449705106546931, 0.45014236025151816, 0.4464801594078167, 0.48065200524598123, 0.45179105521619434, 0.44685824111867983, 0.4736910437514257, 0.42521641880306155]}, {\"categories\": [\"0\", \"1\", \"2\", \"3\", \"4\", \"5\", \"6\", \"7\", \"8\", \"9\", \"10\", \"11\", \"12\", \"13\", \"14\", \"15\", \"16\", \"17\", \"18\", \"19\", \"20\", \"21\", \"22\", \"23\"], \"mode\": \"lines\", \"name\": \"balanced_accuracy_max\", \"stepped\": true, \"type\": \"scatter\", \"data\": [0.4318736382500679, 0.4842055353009509, 0.4842055353009509, 0.4842055353009509, 0.4842055353009509, 0.4842055353009509, 0.4922910830284157, 0.4922910830284157, 0.4922910830284157, 0.4922910830284157, 0.4922910830284157, 0.4922910830284157, 0.4922910830284157, 0.5027500812098868, 0.5027500812098868, 0.5027500812098868, 0.5027500812098868, 0.5027500812098868, 0.5027500812098868, 0.5027500812098868, 0.5027500812098868, 0.5027500812098868, 0.5027500812098868, 0.5027500812098868]}], \"log_loss\": [{\"categories\": [\"0\", \"1\", \"2\", \"3\", \"4\", \"5\", \"6\", \"7\", \"8\", \"9\", \"10\", \"11\", \"12\", \"13\", \"14\", \"15\", \"16\", \"17\", \"18\", \"19\", \"20\", \"21\", \"22\", \"23\"], \"mode\": \"markers\", \"name\": \"log_loss\", \"stepped\": false, \"type\": \"scatter\", \"data\": [0.7153497341731286, 0.6654489443750345, 0.6647048399235618, 0.6873371464288996, 0.954918479004955, 0.8589763723766174, 0.6779400740254102, 0.7075679541893246, 0.690058537229962, 0.7925895984394176, 0.6597480760172081, 0.6768183890428133, 0.7985938629924249, 0.8087578301972091, 0.674106405880981, 0.6712831197992771, 0.6669761644640131, 0.6624366145302928, 0.672944921798487, 0.6787508632443728, 0.6589266295919085, 0.6586148710077148, 0.7091209296224008, 7.8220803017338545]}, {\"categories\": [\"0\", \"1\", \"2\", \"3\", \"4\", \"5\", \"6\", \"7\", \"8\", \"9\", \"10\", \"11\", \"12\", \"13\", \"14\", \"15\", \"16\", \"17\", \"18\", \"19\", \"20\", \"21\", \"22\", \"23\"], \"mode\": \"lines\", \"name\": \"log_loss_min\", \"stepped\": true, \"type\": \"scatter\", \"data\": [0.7153497341731286, 0.6654489443750345, 0.6647048399235618, 0.6647048399235618, 0.6647048399235618, 0.6647048399235618, 0.6647048399235618, 0.6647048399235618, 0.6647048399235618, 0.6647048399235618, 0.6597480760172081, 0.6597480760172081, 0.6597480760172081, 0.6597480760172081, 0.6597480760172081, 0.6597480760172081, 0.6597480760172081, 0.6597480760172081, 0.6597480760172081, 0.6597480760172081, 0.6589266295919085, 0.6586148710077148, 0.6586148710077148, 0.6586148710077148]}], \"matthews_correlation\": [{\"categories\": [\"0\", \"1\", \"2\", \"3\", \"4\", \"5\", \"6\", \"7\", \"8\", \"9\", \"10\", \"11\", \"12\", \"13\", \"14\", \"15\", \"16\", \"17\", \"18\", \"19\", \"20\", \"21\", \"22\", \"23\"], \"mode\": \"markers\", \"name\": \"matthews_correlation\", \"stepped\": false, \"type\": \"scatter\", \"data\": [0.13962521853002638, 0.12906259073794038, 0.10989572700132692, 0.0, 0.11831454795164424, 0.20224038236146816, 0.13627967357341145, 0.08613910945027801, 0.11366402480342803, 0.07076352974862672, 0.09492309836679218, 0.08285272496423017, 0.054262784563657164, 0.14129130729584563, 0.0, 0.0, 0.008502684751459077, 0.026912825304029737, 0.010860424662343401, 0.10745398459853946, 0.04282248317438566, 0.022857728308590664, 0.13211868049817685, 0.09155187900003753]}, {\"categories\": [\"0\", \"1\", \"2\", \"3\", \"4\", \"5\", \"6\", \"7\", \"8\", \"9\", \"10\", \"11\", \"12\", \"13\", \"14\", \"15\", \"16\", \"17\", \"18\", \"19\", \"20\", \"21\", \"22\", \"23\"], \"mode\": \"lines\", \"name\": \"matthews_correlation_max\", \"stepped\": true, \"type\": \"scatter\", \"data\": [0.13962521853002638, 0.13962521853002638, 0.13962521853002638, 0.13962521853002638, 0.13962521853002638, 0.20224038236146816, 0.20224038236146816, 0.20224038236146816, 0.20224038236146816, 0.20224038236146816, 0.20224038236146816, 0.20224038236146816, 0.20224038236146816, 0.20224038236146816, 0.20224038236146816, 0.20224038236146816, 0.20224038236146816, 0.20224038236146816, 0.20224038236146816, 0.20224038236146816, 0.20224038236146816, 0.20224038236146816, 0.20224038236146816, 0.20224038236146816]}], \"weighted_accuracy\": [{\"categories\": [\"0\", \"1\", \"2\", \"3\", \"4\", \"5\", \"6\", \"7\", \"8\", \"9\", \"10\", \"11\", \"12\", \"13\", \"14\", \"15\", \"16\", \"17\", \"18\", \"19\", \"20\", \"21\", \"22\", \"23\"], \"mode\": \"markers\", \"name\": \"weighted_accuracy\", \"stepped\": false, \"type\": \"scatter\", \"data\": [0.687264066384544, 0.7399289128247007, 0.769665652914728, 0.7758101198467586, 0.5661483348561681, 0.5579696559786033, 0.7210522120175197, 0.7212993577179456, 0.6950827894134584, 0.7469269871189356, 0.7465900391829622, 0.7001010117280101, 0.776618599449951, 0.6701599157748666, 0.7758101198467586, 0.7758101198467586, 0.7751345856038329, 0.7456723733377547, 0.7741955960615323, 0.7033572820151573, 0.7596946666617392, 0.7441825482701114, 0.7704818905867293, 0.5418632766478994]}, {\"categories\": [\"0\", \"1\", \"2\", \"3\", \"4\", \"5\", \"6\", \"7\", \"8\", \"9\", \"10\", \"11\", \"12\", \"13\", \"14\", \"15\", \"16\", \"17\", \"18\", \"19\", \"20\", \"21\", \"22\", \"23\"], \"mode\": \"lines\", \"name\": \"weighted_accuracy_max\", \"stepped\": true, \"type\": \"scatter\", \"data\": [0.687264066384544, 0.7399289128247007, 0.769665652914728, 0.7758101198467586, 0.7758101198467586, 0.7758101198467586, 0.7758101198467586, 0.7758101198467586, 0.7758101198467586, 0.7758101198467586, 0.7758101198467586, 0.7758101198467586, 0.776618599449951, 0.776618599449951, 0.776618599449951, 0.776618599449951, 0.776618599449951, 0.776618599449951, 0.776618599449951, 0.776618599449951, 0.776618599449951, 0.776618599449951, 0.776618599449951, 0.776618599449951]}], \"f1_score_macro\": [{\"categories\": [\"0\", \"1\", \"2\", \"3\", \"4\", \"5\", \"6\", \"7\", \"8\", \"9\", \"10\", \"11\", \"12\", \"13\", \"14\", \"15\", \"16\", \"17\", \"18\", \"19\", \"20\", \"21\", \"22\", \"23\"], \"mode\": \"markers\", \"name\": \"f1_score_macro\", \"stepped\": false, \"type\": \"scatter\", \"data\": [0.4324222587110524, 0.46566899947947354, 0.40935814910507323, 0.3506938099465884, 0.40200973659140044, 0.4494091392279982, 0.48267161066564795, 0.45240457969342257, 0.48364257438337255, 0.4195130903109699, 0.4316668200016669, 0.4588002403673881, 0.3624665085183049, 0.5028979620236084, 0.3506938099465884, 0.3506938099465884, 0.3529395936781062, 0.39288820054962015, 0.3581229610616555, 0.4716759651824598, 0.3861966320105048, 0.38562315907572353, 0.42826893118212683, 0.38830890805212803]}, {\"categories\": [\"0\", \"1\", \"2\", \"3\", \"4\", \"5\", \"6\", \"7\", \"8\", \"9\", \"10\", \"11\", \"12\", \"13\", \"14\", \"15\", \"16\", \"17\", \"18\", \"19\", \"20\", \"21\", \"22\", \"23\"], \"mode\": \"lines\", \"name\": \"f1_score_macro_max\", \"stepped\": true, \"type\": \"scatter\", \"data\": [0.4324222587110524, 0.46566899947947354, 0.46566899947947354, 0.46566899947947354, 0.46566899947947354, 0.46566899947947354, 0.48267161066564795, 0.48267161066564795, 0.48364257438337255, 0.48364257438337255, 0.48364257438337255, 0.48364257438337255, 0.48364257438337255, 0.5028979620236084, 0.5028979620236084, 0.5028979620236084, 0.5028979620236084, 0.5028979620236084, 0.5028979620236084, 0.5028979620236084, 0.5028979620236084, 0.5028979620236084, 0.5028979620236084, 0.5028979620236084]}], \"norm_macro_recall\": [{\"categories\": [\"0\", \"1\", \"2\", \"3\", \"4\", \"5\", \"6\", \"7\", \"8\", \"9\", \"10\", \"11\", \"12\", \"13\", \"14\", \"15\", \"16\", \"17\", \"18\", \"19\", \"20\", \"21\", \"22\", \"23\"], \"mode\": \"markers\", \"name\": \"norm_macro_recall\", \"stepped\": false, \"type\": \"scatter\", \"data\": [0.11224596017938372, 0.07282039456977471, 0.03620942359855278, 0.0, 0.08447943122502714, 0.1767936035427692, 0.08828018923338203, 0.04919024097036548, 0.08123316665570392, 0.025662156870590203, 0.04344368743837254, 0.04633338304790472, 0.009700649092476699, 0.10721988027045985, 0.0, 0.0, 0.0007890993153730207, 0.011395831614147292, 0.0061164197017956985, 0.0638424651909932, 0.013563290598951653, 0.006546190095136461, 0.04974642169567308, 0.029176798958780042]}, {\"categories\": [\"0\", \"1\", \"2\", \"3\", \"4\", \"5\", \"6\", \"7\", \"8\", \"9\", \"10\", \"11\", \"12\", \"13\", \"14\", \"15\", \"16\", \"17\", \"18\", \"19\", \"20\", \"21\", \"22\", \"23\"], \"mode\": \"lines\", \"name\": \"norm_macro_recall_max\", \"stepped\": true, \"type\": \"scatter\", \"data\": [0.11224596017938372, 0.11224596017938372, 0.11224596017938372, 0.11224596017938372, 0.11224596017938372, 0.1767936035427692, 0.1767936035427692, 0.1767936035427692, 0.1767936035427692, 0.1767936035427692, 0.1767936035427692, 0.1767936035427692, 0.1767936035427692, 0.1767936035427692, 0.1767936035427692, 0.1767936035427692, 0.1767936035427692, 0.1767936035427692, 0.1767936035427692, 0.1767936035427692, 0.1767936035427692, 0.1767936035427692, 0.1767936035427692, 0.1767936035427692]}], \"average_precision_score_weighted\": [{\"categories\": [\"0\", \"1\", \"2\", \"3\", \"4\", \"5\", \"6\", \"7\", \"8\", \"9\", \"10\", \"11\", \"12\", \"13\", \"14\", \"15\", \"16\", \"17\", \"18\", \"19\", \"20\", \"21\", \"22\", \"23\"], \"mode\": \"markers\", \"name\": \"average_precision_score_weighted\", \"stepped\": false, \"type\": \"scatter\", \"data\": [0.6545680566646557, 0.6743933686593789, 0.6745805147107576, 0.6233612368337349, 0.6283788077949509, 0.6479596452532825, 0.6735565514705993, 0.6736109964662361, 0.6650108859557464, 0.6485424566957355, 0.6688989403636464, 0.6637737194192169, 0.6446118665054258, 0.6564040903486917, 0.6587602428557225, 0.659990967577417, 0.6724725640127981, 0.670972150366798, 0.6687766336922677, 0.6685376185721245, 0.6769618204330153, 0.663555986386987, 0.6829863580674019, 0.6468301294655942]}, {\"categories\": [\"0\", \"1\", \"2\", \"3\", \"4\", \"5\", \"6\", \"7\", \"8\", \"9\", \"10\", \"11\", \"12\", \"13\", \"14\", \"15\", \"16\", \"17\", \"18\", \"19\", \"20\", \"21\", \"22\", \"23\"], \"mode\": \"lines\", \"name\": \"average_precision_score_weighted_max\", \"stepped\": true, \"type\": \"scatter\", \"data\": [0.6545680566646557, 0.6743933686593789, 0.6745805147107576, 0.6745805147107576, 0.6745805147107576, 0.6745805147107576, 0.6745805147107576, 0.6745805147107576, 0.6745805147107576, 0.6745805147107576, 0.6745805147107576, 0.6745805147107576, 0.6745805147107576, 0.6745805147107576, 0.6745805147107576, 0.6745805147107576, 0.6745805147107576, 0.6745805147107576, 0.6745805147107576, 0.6745805147107576, 0.6769618204330153, 0.6769618204330153, 0.6829863580674019, 0.6829863580674019]}], \"precision_score_micro\": [{\"categories\": [\"0\", \"1\", \"2\", \"3\", \"4\", \"5\", \"6\", \"7\", \"8\", \"9\", \"10\", \"11\", \"12\", \"13\", \"14\", \"15\", \"16\", \"17\", \"18\", \"19\", \"20\", \"21\", \"22\", \"23\"], \"mode\": \"markers\", \"name\": \"precision_score_micro\", \"stepped\": false, \"type\": \"scatter\", \"data\": [0.6281057474059663, 0.65146218385214, 0.6579574011024644, 0.6501601005188068, 0.5369041828793774, 0.574735530155642, 0.6449770995460441, 0.6345857652399481, 0.6281057474059663, 0.6436750162127107, 0.6475812662127107, 0.6229227464332037, 0.6527592007133592, 0.6228923476005188, 0.6501601005188068, 0.6501601005188068, 0.6501601005188068, 0.6358979815175098, 0.6501550340466926, 0.6307149805447471, 0.6449720330739299, 0.6346009646562906, 0.6644880836575876, 0.5069917315175098]}, {\"categories\": [\"0\", \"1\", \"2\", \"3\", \"4\", \"5\", \"6\", \"7\", \"8\", \"9\", \"10\", \"11\", \"12\", \"13\", \"14\", \"15\", \"16\", \"17\", \"18\", \"19\", \"20\", \"21\", \"22\", \"23\"], \"mode\": \"lines\", \"name\": \"precision_score_micro_max\", \"stepped\": true, \"type\": \"scatter\", \"data\": [0.6281057474059663, 0.65146218385214, 0.6579574011024644, 0.6579574011024644, 0.6579574011024644, 0.6579574011024644, 0.6579574011024644, 0.6579574011024644, 0.6579574011024644, 0.6579574011024644, 0.6579574011024644, 0.6579574011024644, 0.6579574011024644, 0.6579574011024644, 0.6579574011024644, 0.6579574011024644, 0.6579574011024644, 0.6579574011024644, 0.6579574011024644, 0.6579574011024644, 0.6579574011024644, 0.6579574011024644, 0.6644880836575876, 0.6644880836575876]}], \"f1_score_weighted\": [{\"categories\": [\"0\", \"1\", \"2\", \"3\", \"4\", \"5\", \"6\", \"7\", \"8\", \"9\", \"10\", \"11\", \"12\", \"13\", \"14\", \"15\", \"16\", \"17\", \"18\", \"19\", \"20\", \"21\", \"22\", \"23\"], \"mode\": \"markers\", \"name\": \"f1_score_weighted\", \"stepped\": false, \"type\": \"scatter\", \"data\": [0.6130766532150774, 0.5984675633331866, 0.5609624724050891, 0.5124833634303027, 0.5514382216168391, 0.5888892668325182, 0.6078017609927285, 0.584060975673291, 0.6024982586347472, 0.5651013728996057, 0.5744413591042582, 0.5854158796011117, 0.520684627557407, 0.6139076894376206, 0.5124833634303027, 0.5124833634303027, 0.5148061843108551, 0.535404519051331, 0.5170926643927255, 0.5985370949538292, 0.5361093069967557, 0.5350557106416394, 0.580020061955143, 0.44989345398542274]}, {\"categories\": [\"0\", \"1\", \"2\", \"3\", \"4\", \"5\", \"6\", \"7\", \"8\", \"9\", \"10\", \"11\", \"12\", \"13\", \"14\", \"15\", \"16\", \"17\", \"18\", \"19\", \"20\", \"21\", \"22\", \"23\"], \"mode\": \"lines\", \"name\": \"f1_score_weighted_max\", \"stepped\": true, \"type\": \"scatter\", \"data\": [0.6130766532150774, 0.6130766532150774, 0.6130766532150774, 0.6130766532150774, 0.6130766532150774, 0.6130766532150774, 0.6130766532150774, 0.6130766532150774, 0.6130766532150774, 0.6130766532150774, 0.6130766532150774, 0.6130766532150774, 0.6130766532150774, 0.6139076894376206, 0.6139076894376206, 0.6139076894376206, 0.6139076894376206, 0.6139076894376206, 0.6139076894376206, 0.6139076894376206, 0.6139076894376206, 0.6139076894376206, 0.6139076894376206, 0.6139076894376206]}], \"precision_score_weighted\": [{\"categories\": [\"0\", \"1\", \"2\", \"3\", \"4\", \"5\", \"6\", \"7\", \"8\", \"9\", \"10\", \"11\", \"12\", \"13\", \"14\", \"15\", \"16\", \"17\", \"18\", \"19\", \"20\", \"21\", \"22\", \"23\"], \"mode\": \"markers\", \"name\": \"precision_score_weighted\", \"stepped\": false, \"type\": \"scatter\", \"data\": [0.6119497136525455, 0.6150042846513233, 0.6366260881685735, 0.4230694961141637, 0.6161862053237155, 0.6468662296951816, 0.6135362817103357, 0.5917541551421389, 0.6004165676331715, 0.5918385590502634, 0.6028517292242129, 0.5891689554522461, 0.6173776265876098, 0.6099852324667583, 0.4230694961141637, 0.4230694961141637, 0.48319381079028334, 0.5257049910525474, 0.49545156449610644, 0.5990944280573447, 0.589066281981287, 0.5215211820214926, 0.6344314390078928, 0.45635353853300115]}, {\"categories\": [\"0\", \"1\", \"2\", \"3\", \"4\", \"5\", \"6\", \"7\", \"8\", \"9\", \"10\", \"11\", \"12\", \"13\", \"14\", \"15\", \"16\", \"17\", \"18\", \"19\", \"20\", \"21\", \"22\", \"23\"], \"mode\": \"lines\", \"name\": \"precision_score_weighted_max\", \"stepped\": true, \"type\": \"scatter\", \"data\": [0.6119497136525455, 0.6150042846513233, 0.6366260881685735, 0.6366260881685735, 0.6366260881685735, 0.6468662296951816, 0.6468662296951816, 0.6468662296951816, 0.6468662296951816, 0.6468662296951816, 0.6468662296951816, 0.6468662296951816, 0.6468662296951816, 0.6468662296951816, 0.6468662296951816, 0.6468662296951816, 0.6468662296951816, 0.6468662296951816, 0.6468662296951816, 0.6468662296951816, 0.6468662296951816, 0.6468662296951816, 0.6468662296951816, 0.6468662296951816]}], \"recall_score_micro\": [{\"categories\": [\"0\", \"1\", \"2\", \"3\", \"4\", \"5\", \"6\", \"7\", \"8\", \"9\", \"10\", \"11\", \"12\", \"13\", \"14\", \"15\", \"16\", \"17\", \"18\", \"19\", \"20\", \"21\", \"22\", \"23\"], \"mode\": \"markers\", \"name\": \"recall_score_micro\", \"stepped\": false, \"type\": \"scatter\", \"data\": [0.6281057474059663, 0.65146218385214, 0.6579574011024644, 0.6501601005188068, 0.5369041828793774, 0.574735530155642, 0.6449770995460441, 0.6345857652399481, 0.6281057474059663, 0.6436750162127107, 0.6475812662127107, 0.6229227464332037, 0.6527592007133592, 0.6228923476005188, 0.6501601005188068, 0.6501601005188068, 0.6501601005188068, 0.6358979815175098, 0.6501550340466926, 0.6307149805447471, 0.6449720330739299, 0.6346009646562906, 0.6644880836575876, 0.5069917315175098]}, {\"categories\": [\"0\", \"1\", \"2\", \"3\", \"4\", \"5\", \"6\", \"7\", \"8\", \"9\", \"10\", \"11\", \"12\", \"13\", \"14\", \"15\", \"16\", \"17\", \"18\", \"19\", \"20\", \"21\", \"22\", \"23\"], \"mode\": \"lines\", \"name\": \"recall_score_micro_max\", \"stepped\": true, \"type\": \"scatter\", \"data\": [0.6281057474059663, 0.65146218385214, 0.6579574011024644, 0.6579574011024644, 0.6579574011024644, 0.6579574011024644, 0.6579574011024644, 0.6579574011024644, 0.6579574011024644, 0.6579574011024644, 0.6579574011024644, 0.6579574011024644, 0.6579574011024644, 0.6579574011024644, 0.6579574011024644, 0.6579574011024644, 0.6579574011024644, 0.6579574011024644, 0.6579574011024644, 0.6579574011024644, 0.6579574011024644, 0.6579574011024644, 0.6644880836575876, 0.6644880836575876]}], \"AUC_macro\": [{\"categories\": [\"0\", \"1\", \"2\", \"3\", \"4\", \"5\", \"6\", \"7\", \"8\", \"9\", \"10\", \"11\", \"12\", \"13\", \"14\", \"15\", \"16\", \"17\", \"18\", \"19\", \"20\", \"21\", \"22\", \"23\"], \"mode\": \"markers\", \"name\": \"AUC_macro\", \"stepped\": false, \"type\": \"scatter\", \"data\": [0.615656339283106, 0.6288776720220336, 0.632117930202856, 0.5894598705590192, 0.5684631216281294, 0.6071268831907352, 0.628713729150039, 0.625236687257502, 0.6235149713614992, 0.5980964902631117, 0.6285443421968023, 0.6156603398385148, 0.6178563228486134, 0.6201928006800178, 0.6222390978958475, 0.6186396114628662, 0.6383752919458346, 0.6316322686446668, 0.6267820678051333, 0.6235119173779492, 0.6322852322450795, 0.6246184311070323, 0.6395414290511997, 0.6020804691450529]}, {\"categories\": [\"0\", \"1\", \"2\", \"3\", \"4\", \"5\", \"6\", \"7\", \"8\", \"9\", \"10\", \"11\", \"12\", \"13\", \"14\", \"15\", \"16\", \"17\", \"18\", \"19\", \"20\", \"21\", \"22\", \"23\"], \"mode\": \"lines\", \"name\": \"AUC_macro_max\", \"stepped\": true, \"type\": \"scatter\", \"data\": [0.615656339283106, 0.6288776720220336, 0.632117930202856, 0.632117930202856, 0.632117930202856, 0.632117930202856, 0.632117930202856, 0.632117930202856, 0.632117930202856, 0.632117930202856, 0.632117930202856, 0.632117930202856, 0.632117930202856, 0.632117930202856, 0.632117930202856, 0.632117930202856, 0.6383752919458346, 0.6383752919458346, 0.6383752919458346, 0.6383752919458346, 0.6383752919458346, 0.6383752919458346, 0.6395414290511997, 0.6395414290511997]}]}, \"metricName\": null, \"primaryMetricName\": \"accuracy\", \"showLegend\": false}, \"run_metrics\": [{\"name\": \"experiment_status\", \"run_id\": \"AutoML_aab911f6-6cfc-47ff-a2a7-e97204230e51\", \"categories\": [0, 1, 2, 3, 4, 5, 6, 7, 8, 9, 10, 11, 12, 13, 14], \"series\": [{\"data\": [\"DatasetEvaluation\", \"FeaturesGeneration\", \"DatasetFeaturization\", \"DatasetFeaturizationCompleted\", \"DatasetBalancing\", \"DatasetCrossValidationSplit\", \"ModelSelection\", \"BestRunExplainModel\", \"ModelExplanationDataSetSetup\", \"PickSurrogateModel\", \"EngineeredFeatureExplanations\", \"EngineeredFeatureExplanations\", \"RawFeaturesExplanations\", \"RawFeaturesExplanations\", \"BestRunExplainModel\"]}]}, {\"name\": \"experiment_status_description\", \"run_id\": \"AutoML_aab911f6-6cfc-47ff-a2a7-e97204230e51\", \"categories\": [0, 1, 2, 3, 4, 5, 6, 7, 8, 9, 10, 11, 12, 13, 14], \"series\": [{\"data\": [\"Gathering dataset statistics.\", \"Generating features for the dataset.\", \"Beginning to fit featurizers and featurize the dataset.\", \"Completed fit featurizers and featurizing the dataset.\", \"Performing class balancing sweeping\", \"Generating individually featurized CV splits.\", \"Beginning model selection.\", \"Best run model explanations started\", \"Model explanations data setup completed\", \"Choosing LinearModel as the surrogate model for explanations\", \"Computation of engineered features started\", \"Computation of engineered features completed\", \"Computation of raw features started\", \"Computation of raw features completed\", \"Best run model explanations completed\"]}]}, {\"name\": \"precision_score_weighted\", \"run_id\": \"AutoML_aab911f6-6cfc-47ff-a2a7-e97204230e51\", \"categories\": [0], \"series\": [{\"data\": [0.6344314390078928]}]}, {\"name\": \"recall_score_micro\", \"run_id\": \"AutoML_aab911f6-6cfc-47ff-a2a7-e97204230e51\", \"categories\": [0], \"series\": [{\"data\": [0.6644880836575876]}]}, {\"name\": \"precision_score_micro\", \"run_id\": \"AutoML_aab911f6-6cfc-47ff-a2a7-e97204230e51\", \"categories\": [0], \"series\": [{\"data\": [0.6644880836575876]}]}, {\"name\": \"AUC_macro\", \"run_id\": \"AutoML_aab911f6-6cfc-47ff-a2a7-e97204230e51\", \"categories\": [0], \"series\": [{\"data\": [0.6395414290511997]}]}, {\"name\": \"balanced_accuracy\", \"run_id\": \"AutoML_aab911f6-6cfc-47ff-a2a7-e97204230e51\", \"categories\": [0], \"series\": [{\"data\": [0.4736910437514257]}]}, {\"name\": \"average_precision_score_micro\", \"run_id\": \"AutoML_aab911f6-6cfc-47ff-a2a7-e97204230e51\", \"categories\": [0], \"series\": [{\"data\": [0.7249895402317893]}]}, {\"name\": \"recall_score_macro\", \"run_id\": \"AutoML_aab911f6-6cfc-47ff-a2a7-e97204230e51\", \"categories\": [0], \"series\": [{\"data\": [0.4736910437514257]}]}, {\"name\": \"AUC_weighted\", \"run_id\": \"AutoML_aab911f6-6cfc-47ff-a2a7-e97204230e51\", \"categories\": [0], \"series\": [{\"data\": [0.658691290010985]}]}, {\"name\": \"matthews_correlation\", \"run_id\": \"AutoML_aab911f6-6cfc-47ff-a2a7-e97204230e51\", \"categories\": [0], \"series\": [{\"data\": [0.13211868049817685]}]}, {\"name\": \"AUC_micro\", \"run_id\": \"AutoML_aab911f6-6cfc-47ff-a2a7-e97204230e51\", \"categories\": [0], \"series\": [{\"data\": [0.8611467243407448]}]}, {\"name\": \"accuracy\", \"run_id\": \"AutoML_aab911f6-6cfc-47ff-a2a7-e97204230e51\", \"categories\": [0], \"series\": [{\"data\": [0.6644880836575876]}]}, {\"name\": \"f1_score_macro\", \"run_id\": \"AutoML_aab911f6-6cfc-47ff-a2a7-e97204230e51\", \"categories\": [0], \"series\": [{\"data\": [0.42826893118212683]}]}, {\"name\": \"weighted_accuracy\", \"run_id\": \"AutoML_aab911f6-6cfc-47ff-a2a7-e97204230e51\", \"categories\": [0], \"series\": [{\"data\": [0.7704818905867293]}]}, {\"name\": \"f1_score_weighted\", \"run_id\": \"AutoML_aab911f6-6cfc-47ff-a2a7-e97204230e51\", \"categories\": [0], \"series\": [{\"data\": [0.580020061955143]}]}, {\"name\": \"average_precision_score_macro\", \"run_id\": \"AutoML_aab911f6-6cfc-47ff-a2a7-e97204230e51\", \"categories\": [0], \"series\": [{\"data\": [0.5633522835284259]}]}, {\"name\": \"recall_score_weighted\", \"run_id\": \"AutoML_aab911f6-6cfc-47ff-a2a7-e97204230e51\", \"categories\": [0], \"series\": [{\"data\": [0.6644880836575876]}]}, {\"name\": \"precision_score_macro\", \"run_id\": \"AutoML_aab911f6-6cfc-47ff-a2a7-e97204230e51\", \"categories\": [0], \"series\": [{\"data\": [0.541814971736849]}]}, {\"name\": \"average_precision_score_weighted\", \"run_id\": \"AutoML_aab911f6-6cfc-47ff-a2a7-e97204230e51\", \"categories\": [0], \"series\": [{\"data\": [0.6829863580674019]}]}, {\"name\": \"log_loss\", \"run_id\": \"AutoML_aab911f6-6cfc-47ff-a2a7-e97204230e51\", \"categories\": [0], \"series\": [{\"data\": [0.7091209296224008]}]}, {\"name\": \"norm_macro_recall\", \"run_id\": \"AutoML_aab911f6-6cfc-47ff-a2a7-e97204230e51\", \"categories\": [0], \"series\": [{\"data\": [0.04974642169567308]}]}, {\"name\": \"f1_score_micro\", \"run_id\": \"AutoML_aab911f6-6cfc-47ff-a2a7-e97204230e51\", \"categories\": [0], \"series\": [{\"data\": [0.6644880836575876]}]}], \"run_logs\": \"\\nRun is completed.\", \"graph\": {}, \"widget_settings\": {\"childWidgetDisplay\": \"popup\", \"send_telemetry\": false, \"log_level\": \"INFO\", \"sdk_version\": \"1.26.0\"}, \"loading\": false}"
     },
     "metadata": {},
     "output_type": "display_data"
    }
   ],
   "source": [
    "RunDetails(remote_run).show()"
   ]
  },
  {
   "cell_type": "code",
   "execution_count": 15,
   "metadata": {
    "gather": {
     "logged": 1618637651781
    }
   },
   "outputs": [
    {
     "data": {
      "text/html": [
       "<table style=\"width:100%\"><tr><th>Experiment</th><th>Id</th><th>Type</th><th>Status</th><th>Details Page</th><th>Docs Page</th></tr><tr><td>automl</td><td>AutoML_aab911f6-6cfc-47ff-a2a7-e97204230e51</td><td>automl</td><td>Completed</td><td><a href=\"https://ml.azure.com/runs/AutoML_aab911f6-6cfc-47ff-a2a7-e97204230e51?wsid=/subscriptions/6b4af8be-9931-443e-90f6-c4c34a1f9737/resourcegroups/aml-quickstarts-142899/workspaces/quick-starts-ws-142899&amp;tid=660b3398-b80e-49d2-bc5b-ac1dc93b5254\" target=\"_blank\" rel=\"noopener\">Link to Azure Machine Learning studio</a></td><td><a href=\"https://docs.microsoft.com/en-us/python/api/overview/azure/ml/intro?view=azure-ml-py\" target=\"_blank\" rel=\"noopener\">Link to Documentation</a></td></tr></table>"
      ],
      "text/plain": [
       "<IPython.core.display.HTML object>"
      ]
     },
     "metadata": {},
     "output_type": "display_data"
    },
    {
     "name": "stdout",
     "output_type": "stream",
     "text": [
      "\n",
      "\n",
      "****************************************************************************************************\n",
      "DATA GUARDRAILS: \n",
      "\n",
      "TYPE:         Class balancing detection\n",
      "STATUS:       ALERTED\n",
      "DESCRIPTION:  To decrease model bias, please cancel the current run and fix balancing problem.\n",
      "              Learn more about imbalanced data: https://aka.ms/AutomatedMLImbalancedData\n",
      "DETAILS:      Imbalanced data can lead to a falsely perceived positive effect of a model's accuracy because the input data has bias towards one class.\n",
      "+---------------------------------+---------------------------------+--------------------------------------+\n",
      "|Size of the smallest class       |Name/Label of the smallest class |Number of samples in the training data|\n",
      "+=================================+=================================+======================================+\n",
      "|1                                |Outcome                          |769                                   |\n",
      "+---------------------------------+---------------------------------+--------------------------------------+\n",
      "\n",
      "****************************************************************************************************\n",
      "\n",
      "TYPE:         Missing feature values imputation\n",
      "STATUS:       PASSED\n",
      "DESCRIPTION:  No feature missing values were detected in the training data.\n",
      "              Learn more about missing value imputation: https://aka.ms/AutomatedMLFeaturization\n",
      "\n",
      "****************************************************************************************************\n",
      "\n",
      "TYPE:         High cardinality feature detection\n",
      "STATUS:       DONE\n",
      "DESCRIPTION:  High cardinality features were detected in your inputs and handled.\n",
      "              Learn more about high cardinality feature handling: https://aka.ms/AutomatedMLFeaturization\n",
      "DETAILS:      High cardinality features refer to columns that contain a large percentage of unique values.\n",
      "+---------------------------------+---------------------------------+\n",
      "|Column name                      |Column Content Type              |\n",
      "+=================================+=================================+\n",
      "|Column2                          |categorical_hash                 |\n",
      "|Column3                          |categorical_hash                 |\n",
      "|Column4                          |categorical_hash                 |\n",
      "|Column5                          |categorical_hash                 |\n",
      "|Column6                          |categorical_hash                 |\n",
      "|Column7                          |categorical_hash                 |\n",
      "|Column8                          |categorical_hash                 |\n",
      "+---------------------------------+---------------------------------+\n",
      "\n",
      "****************************************************************************************************\n",
      "\n",
      "****************************************************************************************************\n",
      "ITERATION: The iteration being evaluated.\n",
      "PIPELINE: A summary description of the pipeline being evaluated.\n",
      "DURATION: Time taken for the current iteration.\n",
      "METRIC: The result of computing score on the fitted pipeline.\n",
      "BEST: The best observed score thus far.\n",
      "****************************************************************************************************\n",
      "\n",
      " ITERATION   PIPELINE                                       DURATION      METRIC      BEST\n",
      "         0   MaxAbsScaler LightGBM                          0:01:05       0.6281    0.6281\n",
      "         1   MaxAbsScaler XGBoostClassifier                 0:00:47       0.6515    0.6515\n",
      "         2   MaxAbsScaler RandomForest                      0:00:44       0.6580    0.6580\n",
      "         3   MaxAbsScaler RandomForest                      0:00:47       0.6502    0.6580\n",
      "         4   MaxAbsScaler RandomForest                      0:00:46       0.5369    0.6580\n",
      "         5   MaxAbsScaler RandomForest                      0:00:41       0.5747    0.6580\n",
      "         6   SparseNormalizer XGBoostClassifier             0:00:49       0.6450    0.6580\n",
      "         7   SparseNormalizer XGBoostClassifier             0:00:46       0.6346    0.6580\n",
      "        10   MaxAbsScaler RandomForest                      0:00:48       0.6476    0.6580\n",
      "        11   StandardScalerWrapper RandomForest             0:00:44       0.6229    0.6580\n",
      "         8   SparseNormalizer XGBoostClassifier             0:00:42       0.6281    0.6580\n",
      "         9   SparseNormalizer XGBoostClassifier             0:02:29       0.6437    0.6580\n",
      "        12   SparseNormalizer XGBoostClassifier             0:00:45       0.6528    0.6580\n",
      "        13   MaxAbsScaler LogisticRegression                0:00:40       0.6229    0.6580\n",
      "        14   MaxAbsScaler LightGBM                          0:00:43       0.6502    0.6580\n",
      "        15   SparseNormalizer LightGBM                      0:00:39       0.6502    0.6580\n",
      "        16   MaxAbsScaler LightGBM                          0:00:37       0.6502    0.6580\n",
      "        17   MaxAbsScaler LightGBM                          0:00:52       0.6359    0.6580\n",
      "        18   StandardScalerWrapper LightGBM                 0:00:45       0.6502    0.6580\n",
      "        19   SparseNormalizer XGBoostClassifier             0:00:52       0.6307    0.6580\n",
      "        20   MaxAbsScaler RandomForest                      0:00:44       0.6450    0.6580\n",
      "        21   MaxAbsScaler LightGBM                          0:00:42       0.6346    0.6580\n",
      "        22    VotingEnsemble                                0:00:56       0.6645    0.6645\n",
      "        23    StackEnsemble                                 0:00:56       0.5070    0.6645\n"
     ]
    },
    {
     "data": {
      "text/plain": [
       "{'runId': 'AutoML_aab911f6-6cfc-47ff-a2a7-e97204230e51',\n",
       " 'target': 'notebook138769',\n",
       " 'status': 'Completed',\n",
       " 'startTimeUtc': '2021-04-17T06:25:13.312583Z',\n",
       " 'endTimeUtc': '2021-04-17T06:45:35.747417Z',\n",
       " 'properties': {'num_iterations': '24',\n",
       "  'training_type': 'TrainFull',\n",
       "  'acquisition_function': 'EI',\n",
       "  'primary_metric': 'accuracy',\n",
       "  'train_split': '0',\n",
       "  'acquisition_parameter': '0',\n",
       "  'num_cross_validation': '3',\n",
       "  'target': 'notebook138769',\n",
       "  'AMLSettingsJsonString': '{\"path\":null,\"name\":\"automl\",\"subscription_id\":\"6b4af8be-9931-443e-90f6-c4c34a1f9737\",\"resource_group\":\"aml-quickstarts-142899\",\"workspace_name\":\"quick-starts-ws-142899\",\"region\":\"southcentralus\",\"compute_target\":\"notebook138769\",\"spark_service\":null,\"azure_service\":\"remote\",\"many_models\":false,\"pipeline_fetch_max_batch_size\":1,\"enable_batch_run\":false,\"enable_run_restructure\":false,\"iterations\":24,\"primary_metric\":\"accuracy\",\"task_type\":\"classification\",\"data_script\":null,\"test_size\":0.0,\"validation_size\":0.0,\"n_cross_validations\":3,\"y_min\":null,\"y_max\":null,\"num_classes\":null,\"featurization\":\"auto\",\"_ignore_package_version_incompatibilities\":false,\"is_timeseries\":false,\"max_cores_per_iteration\":1,\"max_concurrent_iterations\":4,\"iteration_timeout_minutes\":null,\"mem_in_mb\":null,\"enforce_time_on_windows\":false,\"experiment_timeout_minutes\":30,\"experiment_exit_score\":null,\"whitelist_models\":null,\"blacklist_algos\":[\"TensorFlowLinearClassifier\",\"TensorFlowDNN\"],\"supported_models\":[\"BernoulliNaiveBayes\",\"TensorFlowDNN\",\"ExtremeRandomTrees\",\"XGBoostClassifier\",\"MultinomialNaiveBayes\",\"SGD\",\"DecisionTree\",\"LightGBM\",\"SVM\",\"LinearSVM\",\"GradientBoosting\",\"RandomForest\",\"LogisticRegression\",\"AveragedPerceptronClassifier\",\"KNN\",\"TensorFlowLinearClassifier\"],\"private_models\":[],\"auto_blacklist\":true,\"blacklist_samples_reached\":false,\"exclude_nan_labels\":true,\"verbosity\":20,\"_debug_log\":\"azureml_automl.log\",\"show_warnings\":false,\"model_explainability\":true,\"service_url\":null,\"sdk_url\":null,\"sdk_packages\":null,\"enable_onnx_compatible_models\":false,\"enable_split_onnx_featurizer_estimator_models\":false,\"vm_type\":\"STANDARD_DS12_V2\",\"telemetry_verbosity\":20,\"send_telemetry\":true,\"enable_dnn\":false,\"scenario\":\"SDK-1.13.0\",\"environment_label\":null,\"save_mlflow\":false,\"force_text_dnn\":false,\"enable_feature_sweeping\":true,\"enable_early_stopping\":true,\"early_stopping_n_iters\":10,\"metrics\":null,\"enable_metric_confidence\":false,\"enable_ensembling\":true,\"enable_stack_ensembling\":true,\"ensemble_iterations\":15,\"enable_tf\":false,\"enable_subsampling\":false,\"subsample_seed\":null,\"enable_nimbusml\":false,\"enable_streaming\":false,\"force_streaming\":false,\"track_child_runs\":true,\"allowed_private_models\":[],\"label_column_name\":\"Column9\",\"weight_column_name\":null,\"cv_split_column_names\":null,\"enable_local_managed\":false,\"_local_managed_run_id\":null,\"cost_mode\":1,\"lag_length\":0,\"metric_operation\":\"maximize\",\"preprocess\":true}',\n",
       "  'DataPrepJsonString': '{\\\\\"training_data\\\\\": {\\\\\"datasetId\\\\\": \\\\\"d01f97c9-94ac-46ce-8ae0-2f6b6160e973\\\\\"}, \\\\\"datasets\\\\\": 0}',\n",
       "  'EnableSubsampling': 'False',\n",
       "  'runTemplate': 'AutoML',\n",
       "  'azureml.runsource': 'automl',\n",
       "  'display_task_type': 'classification',\n",
       "  'dependencies_versions': '{\"azureml-widgets\": \"1.26.0\", \"azureml-train\": \"1.26.0\", \"azureml-train-restclients-hyperdrive\": \"1.26.0\", \"azureml-train-core\": \"1.26.0\", \"azureml-train-automl-client\": \"1.26.0\", \"azureml-tensorboard\": \"1.26.0\", \"azureml-telemetry\": \"1.26.0\", \"azureml-sdk\": \"1.26.0\", \"azureml-pipeline\": \"1.26.0\", \"azureml-pipeline-steps\": \"1.26.0\", \"azureml-pipeline-core\": \"1.26.0\", \"azureml-opendatasets\": \"1.26.0\", \"azureml-model-management-sdk\": \"1.0.1b6.post1\", \"azureml-mlflow\": \"1.26.0\", \"azureml-interpret\": \"1.26.0\", \"azureml-explain-model\": \"1.26.0\", \"azureml-defaults\": \"1.26.0\", \"azureml-dataset-runtime\": \"1.26.0\", \"azureml-dataprep\": \"2.13.2\", \"azureml-dataprep-rslex\": \"1.11.2\", \"azureml-dataprep-native\": \"32.0.0\", \"azureml-datadrift\": \"1.26.0\", \"azureml-core\": \"1.26.0\", \"azureml-contrib-services\": \"1.26.0\", \"azureml-contrib-server\": \"1.26.0\", \"azureml-contrib-reinforcementlearning\": \"1.26.0\", \"azureml-contrib-pipeline-steps\": \"1.26.0\", \"azureml-contrib-notebook\": \"1.26.0\", \"azureml-contrib-gbdt\": \"1.26.0\", \"azureml-contrib-fairness\": \"1.26.0\", \"azureml-contrib-dataset\": \"1.26.0\", \"azureml-cli-common\": \"1.26.0\", \"azureml-automl-core\": \"1.26.0\", \"azureml-accel-models\": \"1.26.0\"}',\n",
       "  '_aml_system_scenario_identification': 'Remote.Parent',\n",
       "  'ClientType': 'SDK',\n",
       "  'environment_cpu_name': 'AzureML-AutoML',\n",
       "  'environment_cpu_label': 'prod',\n",
       "  'environment_gpu_name': 'AzureML-AutoML-GPU',\n",
       "  'environment_gpu_label': 'prod',\n",
       "  'root_attribution': 'automl',\n",
       "  'attribution': 'AutoML',\n",
       "  'Orchestrator': 'AutoML',\n",
       "  'CancelUri': 'https://southcentralus.experiments.azureml.net/jasmine/v1.0/subscriptions/6b4af8be-9931-443e-90f6-c4c34a1f9737/resourceGroups/aml-quickstarts-142899/providers/Microsoft.MachineLearningServices/workspaces/quick-starts-ws-142899/experimentids/aa7b45e2-143f-47f0-911f-65cd5730a1ad/cancel/AutoML_aab911f6-6cfc-47ff-a2a7-e97204230e51',\n",
       "  'ClientSdkVersion': '1.25.0',\n",
       "  'snapshotId': '00000000-0000-0000-0000-000000000000',\n",
       "  'SetupRunId': 'AutoML_aab911f6-6cfc-47ff-a2a7-e97204230e51_setup',\n",
       "  'SetupRunContainerId': 'dcid.AutoML_aab911f6-6cfc-47ff-a2a7-e97204230e51_setup',\n",
       "  'FeaturizationRunJsonPath': 'featurizer_container.json',\n",
       "  'FeaturizationRunId': 'AutoML_aab911f6-6cfc-47ff-a2a7-e97204230e51_featurize',\n",
       "  'ProblemInfoJsonString': '{\"dataset_num_categorical\": 0, \"is_sparse\": true, \"subsampling\": false, \"dataset_classes\": 3, \"dataset_features\": 1010, \"dataset_samples\": 769, \"single_frequency_class_detected\": true}',\n",
       "  'ModelExplainRunId': 'AutoML_aab911f6-6cfc-47ff-a2a7-e97204230e51_ModelExplain'},\n",
       " 'inputDatasets': [{'dataset': {'id': 'd01f97c9-94ac-46ce-8ae0-2f6b6160e973'}, 'consumptionDetails': {'type': 'RunInput', 'inputName': 'training_data', 'mechanism': 'Direct'}}],\n",
       " 'outputDatasets': [],\n",
       " 'logFiles': {},\n",
       " 'submittedBy': 'ODL_User 142899'}"
      ]
     },
     "execution_count": 15,
     "metadata": {},
     "output_type": "execute_result"
    }
   ],
   "source": [
    "remote_run.wait_for_completion(show_output=True)"
   ]
  },
  {
   "cell_type": "code",
   "execution_count": 19,
   "metadata": {
    "gather": {
     "logged": 1618637691281
    }
   },
   "outputs": [
    {
     "data": {
      "text/html": [
       "<table style=\"width:100%\"><tr><th>Experiment</th><th>Id</th><th>Type</th><th>Status</th><th>Details Page</th><th>Docs Page</th></tr><tr><td>automl</td><td>AutoML_aab911f6-6cfc-47ff-a2a7-e97204230e51</td><td>automl</td><td>Completed</td><td><a href=\"https://ml.azure.com/runs/AutoML_aab911f6-6cfc-47ff-a2a7-e97204230e51?wsid=/subscriptions/6b4af8be-9931-443e-90f6-c4c34a1f9737/resourcegroups/aml-quickstarts-142899/workspaces/quick-starts-ws-142899&amp;tid=660b3398-b80e-49d2-bc5b-ac1dc93b5254\" target=\"_blank\" rel=\"noopener\">Link to Azure Machine Learning studio</a></td><td><a href=\"https://docs.microsoft.com/en-us/python/api/overview/azure/ml/intro?view=azure-ml-py\" target=\"_blank\" rel=\"noopener\">Link to Documentation</a></td></tr></table>"
      ],
      "text/plain": [
       "Run(Experiment: automl,\n",
       "Id: AutoML_aab911f6-6cfc-47ff-a2a7-e97204230e51,\n",
       "Type: automl,\n",
       "Status: Completed)"
      ]
     },
     "execution_count": 19,
     "metadata": {},
     "output_type": "execute_result"
    }
   ],
   "source": [
    "remote_run"
   ]
  },
  {
   "cell_type": "markdown",
   "metadata": {},
   "source": [
    "## Best Model\n",
    "\n",
    "The cell below shows the best model from the automl experiments and display all the properties of the model.\n",
    "\n"
   ]
  },
  {
   "cell_type": "code",
   "execution_count": 27,
   "metadata": {
    "gather": {
     "logged": 1618637716592
    },
    "jupyter": {
     "outputs_hidden": false,
     "source_hidden": false
    },
    "nteract": {
     "transient": {
      "deleting": false
     }
    }
   },
   "outputs": [
    {
     "name": "stderr",
     "output_type": "stream",
     "text": [
      "WARNING:root:The model you attempted to retrieve requires 'azureml-train-automl-runtime' to be installed at '==1.25.0'. Please install 'azureml-train-automl-runtime==1.25.0' (e.g. `pip install azureml-train-automl-runtime==1.25.0`) and then rerun the previous command.\n"
     ]
    },
    {
     "name": "stdout",
     "output_type": "stream",
     "text": [
      "Run(Experiment: automl,\n",
      "Id: AutoML_aab911f6-6cfc-47ff-a2a7-e97204230e51_22,\n",
      "Type: azureml.scriptrun,\n",
      "Status: Completed)\n"
     ]
    },
    {
     "ename": "AttributeError",
     "evalue": "'NoneType' object has no attribute 'steps'",
     "output_type": "error",
     "traceback": [
      "\u001b[0;31m---------------------------------------------------------------------------\u001b[0m",
      "\u001b[0;31mAttributeError\u001b[0m                            Traceback (most recent call last)",
      "\u001b[0;32m<ipython-input-27-440d4b46f592>\u001b[0m in \u001b[0;36m<module>\u001b[0;34m\u001b[0m\n\u001b[1;32m      2\u001b[0m \u001b[0mbest_model\u001b[0m\u001b[0;34m,\u001b[0m \u001b[0mmodel\u001b[0m \u001b[0;34m=\u001b[0m \u001b[0mremote_run\u001b[0m\u001b[0;34m.\u001b[0m\u001b[0mget_output\u001b[0m\u001b[0;34m(\u001b[0m\u001b[0;34m)\u001b[0m\u001b[0;34m\u001b[0m\u001b[0;34m\u001b[0m\u001b[0m\n\u001b[1;32m      3\u001b[0m \u001b[0mprint\u001b[0m\u001b[0;34m(\u001b[0m\u001b[0mbest_model\u001b[0m\u001b[0;34m)\u001b[0m\u001b[0;34m\u001b[0m\u001b[0;34m\u001b[0m\u001b[0m\n\u001b[0;32m----> 4\u001b[0;31m \u001b[0mprint\u001b[0m\u001b[0;34m(\u001b[0m\u001b[0mmodel\u001b[0m\u001b[0;34m.\u001b[0m\u001b[0msteps\u001b[0m\u001b[0;34m)\u001b[0m\u001b[0;34m\u001b[0m\u001b[0;34m\u001b[0m\u001b[0m\n\u001b[0m",
      "\u001b[0;31mAttributeError\u001b[0m: 'NoneType' object has no attribute 'steps'"
     ]
    }
   ],
   "source": [
    "# Retrieve and save best automl model\n",
    "best_model, model = remote_run.get_output()\n",
    "print(best_model)\n",
    "print(model.steps)"
   ]
  },
  {
   "cell_type": "code",
   "execution_count": 28,
   "metadata": {
    "gather": {
     "logged": 1618637745625
    }
   },
   "outputs": [
    {
     "name": "stderr",
     "output_type": "stream",
     "text": [
      "WARNING:root:The version of the SDK does not match the version the model was trained on.\n",
      "WARNING:root:The consistency in the result may not be guaranteed.\n",
      "WARNING:root:Package:azureml-automl-core, training version:1.21.0, current version:1.20.0\n",
      "Package:azureml-automl-runtime, training version:1.21.0, current version:1.20.0\n",
      "Package:azureml-core, training version:1.21.0.post1, current version:1.20.0\n",
      "Package:azureml-dataprep, training version:2.8.2, current version:2.7.3\n",
      "Package:azureml-dataprep-native, training version:28.0.0, current version:27.0.0\n",
      "Package:azureml-dataprep-rslex, training version:1.6.0, current version:1.5.0\n",
      "Package:azureml-dataset-runtime, training version:1.21.0, current version:1.20.0\n",
      "Package:azureml-defaults, training version:1.21.0, current version:1.20.0\n",
      "Package:azureml-interpret, training version:1.21.0, current version:1.20.0\n",
      "Package:azureml-pipeline-core, training version:1.21.0, current version:1.20.0\n",
      "Package:azureml-telemetry, training version:1.21.0, current version:1.20.0\n",
      "Package:azureml-train-automl-client, training version:1.21.0, current version:1.20.0\n",
      "Package:azureml-train-automl-runtime, training version:1.21.0, current version:1.20.0\n",
      "WARNING:root:Please ensure the version of your local conda dependencies match the version on which your model was trained in order to properly retrieve your model.\n"
     ]
    },
    {
     "name": "stdout",
     "output_type": "stream",
     "text": [
      "Run(Experiment: automl,\n",
      "Id: AutoML_0c1155d7-c4c9-4662-abe0-5a612296c3c0_22,\n",
      "Type: azureml.scriptrun,\n",
      "Status: Completed)\n",
      "[('datatransformer', DataTransformer(enable_dnn=None, enable_feature_sweeping=None,\n",
      "                feature_sweeping_config=None, feature_sweeping_timeout=None,\n",
      "                featurization_config=None, force_text_dnn=None,\n",
      "                is_cross_validation=None, is_onnx_compatible=None, logger=None,\n",
      "                observer=None, task=None, working_dir=None)), ('prefittedsoftvotingclassifier', PreFittedSoftVotingClassifier(classification_labels=None,\n",
      "                              estimators=[('19',\n",
      "                                           Pipeline(memory=None,\n",
      "                                                    steps=[('maxabsscaler',\n",
      "                                                            MaxAbsScaler(copy=True)),\n",
      "                                                           ('logisticregression',\n",
      "                                                            LogisticRegression(C=24.420530945486497,\n",
      "                                                                               class_weight=None,\n",
      "                                                                               dual=False,\n",
      "                                                                               fit_intercept=True,\n",
      "                                                                               intercept_scaling=1,\n",
      "                                                                               l1_ratio=None,\n",
      "                                                                               max_iter=100,\n",
      "                                                                               multi_class='ovr',\n",
      "                                                                               n_jobs=1,\n",
      "                                                                               penalty='l2',\n",
      "                                                                               random_st...\n",
      "                                                                              scale_pos_weight=1,\n",
      "                                                                              seed=None,\n",
      "                                                                              silent=None,\n",
      "                                                                              subsample=0.8,\n",
      "                                                                              tree_method='auto',\n",
      "                                                                              verbose=-10,\n",
      "                                                                              verbosity=0))],\n",
      "                                                    verbose=False))],\n",
      "                              flatten_transform=None,\n",
      "                              weights=[0.18181818181818182, 0.09090909090909091,\n",
      "                                       0.09090909090909091, 0.09090909090909091,\n",
      "                                       0.09090909090909091, 0.09090909090909091,\n",
      "                                       0.09090909090909091, 0.09090909090909091,\n",
      "                                       0.09090909090909091,\n",
      "                                       0.09090909090909091]))]\n"
     ]
    }
   ],
   "source": [
    "print(model)"
   ]
  },
  {
   "cell_type": "code",
   "execution_count": 25,
   "metadata": {
    "gather": {
     "logged": 1618637759669
    }
   },
   "outputs": [
    {
     "name": "stdout",
     "output_type": "stream",
     "text": [
      "Run(Experiment: automl,\n",
      "Id: AutoML_aab911f6-6cfc-47ff-a2a7-e97204230e51_22,\n",
      "Type: azureml.scriptrun,\n",
      "Status: Completed)\n"
     ]
    }
   ],
   "source": [
    "print(best_model)"
   ]
  },
  {
   "cell_type": "code",
   "execution_count": 26,
   "metadata": {
    "gather": {
     "logged": 1618637769130
    }
   },
   "outputs": [
    {
     "data": {
      "text/plain": [
       "{'experiment_status': ['DatasetEvaluation',\n",
       "  'FeaturesGeneration',\n",
       "  'DatasetFeaturization',\n",
       "  'DatasetFeaturizationCompleted',\n",
       "  'DatasetBalancing',\n",
       "  'DatasetCrossValidationSplit',\n",
       "  'ModelSelection',\n",
       "  'BestRunExplainModel',\n",
       "  'ModelExplanationDataSetSetup',\n",
       "  'PickSurrogateModel',\n",
       "  'EngineeredFeatureExplanations',\n",
       "  'EngineeredFeatureExplanations',\n",
       "  'RawFeaturesExplanations',\n",
       "  'RawFeaturesExplanations',\n",
       "  'BestRunExplainModel'],\n",
       " 'experiment_status_description': ['Gathering dataset statistics.',\n",
       "  'Generating features for the dataset.',\n",
       "  'Beginning to fit featurizers and featurize the dataset.',\n",
       "  'Completed fit featurizers and featurizing the dataset.',\n",
       "  'Performing class balancing sweeping',\n",
       "  'Generating individually featurized CV splits.',\n",
       "  'Beginning model selection.',\n",
       "  'Best run model explanations started',\n",
       "  'Model explanations data setup completed',\n",
       "  'Choosing LinearModel as the surrogate model for explanations',\n",
       "  'Computation of engineered features started',\n",
       "  'Computation of engineered features completed',\n",
       "  'Computation of raw features started',\n",
       "  'Computation of raw features completed',\n",
       "  'Best run model explanations completed'],\n",
       " 'precision_score_weighted': 0.6344314390078928,\n",
       " 'recall_score_micro': 0.6644880836575876,\n",
       " 'precision_score_micro': 0.6644880836575876,\n",
       " 'AUC_macro': 0.6395414290511997,\n",
       " 'balanced_accuracy': 0.4736910437514257,\n",
       " 'average_precision_score_micro': 0.7249895402317893,\n",
       " 'recall_score_macro': 0.4736910437514257,\n",
       " 'AUC_weighted': 0.658691290010985,\n",
       " 'matthews_correlation': 0.13211868049817685,\n",
       " 'AUC_micro': 0.8611467243407448,\n",
       " 'accuracy': 0.6644880836575876,\n",
       " 'f1_score_macro': 0.42826893118212683,\n",
       " 'weighted_accuracy': 0.7704818905867293,\n",
       " 'f1_score_weighted': 0.580020061955143,\n",
       " 'average_precision_score_macro': 0.5633522835284259,\n",
       " 'recall_score_weighted': 0.6644880836575876,\n",
       " 'precision_score_macro': 0.541814971736849,\n",
       " 'average_precision_score_weighted': 0.6829863580674019,\n",
       " 'log_loss': 0.7091209296224008,\n",
       " 'norm_macro_recall': 0.04974642169567308,\n",
       " 'f1_score_micro': 0.6644880836575876}"
      ]
     },
     "execution_count": 26,
     "metadata": {},
     "output_type": "execute_result"
    }
   ],
   "source": [
    "remote_run.get_metrics()"
   ]
  },
  {
   "cell_type": "markdown",
   "metadata": {},
   "source": [
    "## Model Deployment\n",
    "\n",
    "Remember you have to deploy only one of the two models you trained.. Perform the steps in the rest of this notebook only if you wish to deploy this model.\n",
    "\n",
    "In the cell below, we have registered the model, created an inference config and deployed the model as a web service."
   ]
  },
  {
   "cell_type": "code",
   "execution_count": 29,
   "metadata": {
    "gather": {
     "logged": 1598431435189
    },
    "jupyter": {
     "outputs_hidden": false,
     "source_hidden": false
    },
    "nteract": {
     "transient": {
      "deleting": false
     }
    }
   },
   "outputs": [],
   "source": [
    "# Registring the best model\n",
    "model = best_model.register_model(model_name='automl-best-model',model_path='outputs/model.pkl')\n"
   ]
  },
  {
   "cell_type": "code",
   "execution_count": 30,
   "metadata": {},
   "outputs": [],
   "source": [
    "# Get automl environment with its dependencies\n",
    "environment = Environment.get(ws, \"AzureML-AutoML\")"
   ]
  },
  {
   "cell_type": "code",
   "execution_count": 31,
   "metadata": {},
   "outputs": [
    {
     "name": "stderr",
     "output_type": "stream",
     "text": [
      "ERROR:azureml._model_management._util:entry_script scoring.py doesn't exist. entry_script should be path relative to current working directory\n",
      "\n"
     ]
    },
    {
     "ename": "WebserviceException",
     "evalue": "WebserviceException:\n\tMessage: entry_script scoring.py doesn't exist. entry_script should be path relative to current working directory\n\tInnerException None\n\tErrorResponse \n{\n    \"error\": {\n        \"message\": \"entry_script scoring.py doesn't exist. entry_script should be path relative to current working directory\"\n    }\n}",
     "output_type": "error",
     "traceback": [
      "\u001b[0;31m---------------------------------------------------------------------------\u001b[0m",
      "\u001b[0;31mWebserviceException\u001b[0m                       Traceback (most recent call last)",
      "\u001b[0;32m<ipython-input-31-b559651b3aff>\u001b[0m in \u001b[0;36m<module>\u001b[0;34m\u001b[0m\n\u001b[0;32m----> 1\u001b[0;31m inference_config = InferenceConfig(entry_script='scoring.py',\n\u001b[0m\u001b[1;32m      2\u001b[0m                                    environment=environment)\n\u001b[1;32m      3\u001b[0m \u001b[0mservice_name\u001b[0m \u001b[0;34m=\u001b[0m \u001b[0;34m'automl-deploy'\u001b[0m\u001b[0;34m\u001b[0m\u001b[0;34m\u001b[0m\u001b[0m\n\u001b[1;32m      4\u001b[0m \u001b[0mdeployment_config\u001b[0m \u001b[0;34m=\u001b[0m \u001b[0mAciWebservice\u001b[0m\u001b[0;34m.\u001b[0m\u001b[0mdeploy_configuration\u001b[0m\u001b[0;34m(\u001b[0m\u001b[0mcpu_cores\u001b[0m\u001b[0;34m=\u001b[0m\u001b[0;36m1\u001b[0m\u001b[0;34m,\u001b[0m \u001b[0mmemory_gb\u001b[0m\u001b[0;34m=\u001b[0m\u001b[0;36m1\u001b[0m\u001b[0;34m)\u001b[0m\u001b[0;34m\u001b[0m\u001b[0;34m\u001b[0m\u001b[0m\n\u001b[1;32m      5\u001b[0m \u001b[0;34m\u001b[0m\u001b[0m\n",
      "\u001b[0;32m/anaconda/envs/azureml_py38/lib/python3.8/site-packages/azureml/core/model.py\u001b[0m in \u001b[0;36m__init__\u001b[0;34m(self, entry_script, runtime, conda_file, extra_docker_file_steps, source_directory, enable_gpu, description, base_image, base_image_registry, cuda_version, environment)\u001b[0m\n\u001b[1;32m   2120\u001b[0m         \u001b[0mself\u001b[0m\u001b[0;34m.\u001b[0m\u001b[0menvironment\u001b[0m \u001b[0;34m=\u001b[0m \u001b[0menvironment\u001b[0m\u001b[0;34m\u001b[0m\u001b[0;34m\u001b[0m\u001b[0m\n\u001b[1;32m   2121\u001b[0m \u001b[0;34m\u001b[0m\u001b[0m\n\u001b[0;32m-> 2122\u001b[0;31m         \u001b[0mself\u001b[0m\u001b[0;34m.\u001b[0m\u001b[0mvalidate_configuration\u001b[0m\u001b[0;34m(\u001b[0m\u001b[0;34m)\u001b[0m\u001b[0;34m\u001b[0m\u001b[0;34m\u001b[0m\u001b[0m\n\u001b[0m\u001b[1;32m   2123\u001b[0m \u001b[0;34m\u001b[0m\u001b[0m\n\u001b[1;32m   2124\u001b[0m     \u001b[0;32mdef\u001b[0m \u001b[0m__repr__\u001b[0m\u001b[0;34m(\u001b[0m\u001b[0mself\u001b[0m\u001b[0;34m)\u001b[0m\u001b[0;34m:\u001b[0m\u001b[0;34m\u001b[0m\u001b[0;34m\u001b[0m\u001b[0m\n",
      "\u001b[0;32m/anaconda/envs/azureml_py38/lib/python3.8/site-packages/azureml/core/model.py\u001b[0m in \u001b[0;36mvalidate_configuration\u001b[0;34m(self)\u001b[0m\n\u001b[1;32m   2227\u001b[0m             \u001b[0mvalidate_path_exists_or_throw\u001b[0m\u001b[0;34m(\u001b[0m\u001b[0mself\u001b[0m\u001b[0;34m.\u001b[0m\u001b[0msource_directory\u001b[0m\u001b[0;34m,\u001b[0m \u001b[0;34m\"source directory\"\u001b[0m\u001b[0;34m)\u001b[0m\u001b[0;34m\u001b[0m\u001b[0;34m\u001b[0m\u001b[0m\n\u001b[1;32m   2228\u001b[0m \u001b[0;34m\u001b[0m\u001b[0m\n\u001b[0;32m-> 2229\u001b[0;31m         validate_path_exists_or_throw(joinPath(self.source_directory, self.entry_script),\n\u001b[0m\u001b[1;32m   2230\u001b[0m                                       \u001b[0;34m'entry_script'\u001b[0m\u001b[0;34m,\u001b[0m\u001b[0;34m\u001b[0m\u001b[0;34m\u001b[0m\u001b[0m\n\u001b[1;32m   2231\u001b[0m                                       \u001b[0mextra_message\u001b[0m\u001b[0;34m=\u001b[0m\u001b[0;34m'entry_script should be path relative to '\u001b[0m\u001b[0;34m\u001b[0m\u001b[0;34m\u001b[0m\u001b[0m\n",
      "\u001b[0;32m/anaconda/envs/azureml_py38/lib/python3.8/site-packages/azureml/_model_management/_util.py\u001b[0m in \u001b[0;36mvalidate_path_exists_or_throw\u001b[0;34m(member, name, extra_message)\u001b[0m\n\u001b[1;32m    879\u001b[0m \u001b[0;32mdef\u001b[0m \u001b[0mvalidate_path_exists_or_throw\u001b[0m\u001b[0;34m(\u001b[0m\u001b[0mmember\u001b[0m\u001b[0;34m,\u001b[0m \u001b[0mname\u001b[0m\u001b[0;34m,\u001b[0m \u001b[0mextra_message\u001b[0m\u001b[0;34m=\u001b[0m\u001b[0;34m''\u001b[0m\u001b[0;34m)\u001b[0m\u001b[0;34m:\u001b[0m\u001b[0;34m\u001b[0m\u001b[0;34m\u001b[0m\u001b[0m\n\u001b[1;32m    880\u001b[0m     \u001b[0;32mif\u001b[0m \u001b[0;32mnot\u001b[0m \u001b[0mos\u001b[0m\u001b[0;34m.\u001b[0m\u001b[0mpath\u001b[0m\u001b[0;34m.\u001b[0m\u001b[0mexists\u001b[0m\u001b[0;34m(\u001b[0m\u001b[0mmember\u001b[0m\u001b[0;34m)\u001b[0m\u001b[0;34m:\u001b[0m\u001b[0;34m\u001b[0m\u001b[0;34m\u001b[0m\u001b[0m\n\u001b[0;32m--> 881\u001b[0;31m         raise WebserviceException(\"{0} {1} doesn't exist. {2}\".format(name, member, extra_message),\n\u001b[0m\u001b[1;32m    882\u001b[0m                                   logger=module_logger)\n\u001b[1;32m    883\u001b[0m \u001b[0;34m\u001b[0m\u001b[0m\n",
      "\u001b[0;31mWebserviceException\u001b[0m: WebserviceException:\n\tMessage: entry_script scoring.py doesn't exist. entry_script should be path relative to current working directory\n\tInnerException None\n\tErrorResponse \n{\n    \"error\": {\n        \"message\": \"entry_script scoring.py doesn't exist. entry_script should be path relative to current working directory\"\n    }\n}"
     ]
    }
   ],
   "source": [
    "inference_config = InferenceConfig(entry_script='scoring.py',\n",
    "                                   environment=environment)\n",
    "service_name = 'automl-deploy'\n",
    "deployment_config = AciWebservice.deploy_configuration(cpu_cores=1, memory_gb=1)\n",
    "\n",
    "service = Model.deploy(workspace=ws,\n",
    "                       name=service_name,\n",
    "                       models=[model],\n",
    "                       inference_config=inference_config,\n",
    "                       deployment_config=deployment_config,\n",
    "                       overwrite=True\n",
    "                      )\n",
    "service.wait_for_deployment(show_output=True)\n",
    "\n",
    "scoring_uri = service.scoring_uri\n",
    "print(scoring_uri)"
   ]
  },
  {
   "cell_type": "code",
   "execution_count": null,
   "metadata": {},
   "outputs": [],
   "source": [
    "# Enable app insights\n",
    "service.update(enable_app_insights=True)"
   ]
  },
  {
   "cell_type": "markdown",
   "metadata": {
    "gather": {
     "logged": 1598431657736
    },
    "jupyter": {
     "outputs_hidden": false,
     "source_hidden": false
    },
    "nteract": {
     "transient": {
      "deleting": false
     }
    }
   },
   "source": [
    "In the cell below, we have sent a request to the web service to test it."
   ]
  },
  {
   "cell_type": "code",
   "execution_count": null,
   "metadata": {},
   "outputs": [],
   "source": [
    "import requests\n",
    "import json\n",
    "\n",
    "#two set of data to score, so we get two results back\n",
    "data = {\"data\": [{\"Pregnancies\": 5, \n",
    "     \"Glucose\": 150, \n",
    "     \"BloodPressure\": 70, \n",
    "     \"SkinThickness\": 40, \n",
    "     \"Insulin\": 10, \n",
    "     \"BMI\": 36.5, \n",
    "     \"DiabetesPedigreeFunction\": 0.627, \n",
    "     \"Age\": 30},\n",
    "\n",
    "    {\"Pregnancies\": 5, \n",
    "     \"Glucose\": 90, \n",
    "     \"BloodPressure\": 70, \n",
    "     \"SkinThickness\": 34, \n",
    "     \"Insulin\": 20, \n",
    "     \"BMI\": 26.5, \n",
    "     \"DiabetesPedigreeFunction\": 0.351, \n",
    "     \"Age\": 28},\n",
    "      ]}\n",
    "    \n",
    "# Convert to JSON string\n",
    "input_data = json.dumps(data)\n",
    "with open(\"data.json\", \"w\") as _f:\n",
    "    _f.write(input_data)\n",
    "\n",
    "# Set the content type\n",
    "headers = {'Content-Type': 'application/json'}\n",
    "# If authentication is enabled, set the authorization header\n",
    "#headers['Authorization'] = f'Bearer {key}'\n",
    "\n",
    "# Make the request and display the response\n",
    "resp = requests.post(scoring_uri, input_data, headers=headers)\n",
    "print(resp.json())\n",
    "print(\"Case 0: Not Diabetes, Case 1: Diabetes.\")"
   ]
  },
  {
   "cell_type": "code",
   "execution_count": null,
   "metadata": {},
   "outputs": [],
   "source": [
    "data = [{\"Pregnancies\": 5, \n",
    "     \"Glucose\": 150, \n",
    "     \"BloodPressure\": 70, \n",
    "     \"SkinThickness\": 40, \n",
    "     \"Insulin\": 10, \n",
    "     \"BMI\": 36.5, \n",
    "     \"DiabetesPedigreeFunction\": 0.627, \n",
    "     \"Age\": 30},\n",
    "\n",
    "    {\"Pregnancies\": 5, \n",
    "     \"Glucose\": 90, \n",
    "     \"BloodPressure\": 70, \n",
    "     \"SkinThickness\": 34, \n",
    "     \"Insulin\": 20, \n",
    "     \"BMI\": 26.5, \n",
    "     \"DiabetesPedigreeFunction\": 0.351, \n",
    "     \"Age\": 28},\n",
    "      ]\n",
    "\n",
    "print(data)"
   ]
  },
  {
   "cell_type": "code",
   "execution_count": null,
   "metadata": {},
   "outputs": [],
   "source": [
    "# test using service instance\n",
    "input_data = json.dumps({\n",
    "    'data': data\n",
    "})\n",
    "\n",
    "output = service.run(input_data)\n",
    "output"
   ]
  },
  {
   "cell_type": "markdown",
   "metadata": {
    "gather": {
     "logged": 1598432765711
    },
    "jupyter": {
     "outputs_hidden": false,
     "source_hidden": false
    },
    "nteract": {
     "transient": {
      "deleting": false
     }
    }
   },
   "source": [
    "Print the logs of the web service and delete the service"
   ]
  },
  {
   "cell_type": "code",
   "execution_count": null,
   "metadata": {
    "jupyter": {
     "outputs_hidden": false,
     "source_hidden": false
    },
    "nteract": {
     "transient": {
      "deleting": false
     }
    }
   },
   "outputs": [],
   "source": [
    "logs = service.get_logs()\n",
    "logs"
   ]
  },
  {
   "cell_type": "code",
   "execution_count": null,
   "metadata": {},
   "outputs": [],
   "source": [
    "service.delete()"
   ]
  },
  {
   "cell_type": "code",
   "execution_count": null,
   "metadata": {},
   "outputs": [],
   "source": []
  },
  {
   "cell_type": "code",
   "execution_count": null,
   "metadata": {},
   "outputs": [],
   "source": []
  }
 ],
 "metadata": {
  "kernel_info": {
   "name": "python3"
  },
  "kernelspec": {
   "display_name": "Python 3.8 - AzureML",
   "language": "python",
   "name": "python38-azureml"
  },
  "language_info": {
   "codemirror_mode": {
    "name": "ipython",
    "version": 3
   },
   "file_extension": ".py",
   "mimetype": "text/x-python",
   "name": "python",
   "nbconvert_exporter": "python",
   "pygments_lexer": "ipython3",
   "version": "3.8.1"
  },
  "nteract": {
   "version": "nteract-front-end@1.0.0"
  }
 },
 "nbformat": 4,
 "nbformat_minor": 4
}
